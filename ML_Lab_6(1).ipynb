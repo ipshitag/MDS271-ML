{
 "cells": [
  {
   "cell_type": "markdown",
   "metadata": {},
   "source": [
    "# Lab 6 (Part 1)\n",
    "\n",
    "## Principal Component Analysis Implementation from scratch\n",
    "\n",
    "## 10th March 2021"
   ]
  },
  {
   "cell_type": "code",
   "execution_count": 1,
   "metadata": {},
   "outputs": [],
   "source": [
    "from numpy import array\n",
    "from numpy import mean\n",
    "from numpy import cov\n",
    "from numpy.linalg import eig"
   ]
  },
  {
   "cell_type": "code",
   "execution_count": 11,
   "metadata": {},
   "outputs": [
    {
     "name": "stdout",
     "output_type": "stream",
     "text": [
      "A\n",
      "[[1 2]\n",
      " [3 4]\n",
      " [5 6]]\n",
      "--------------------------\n",
      " \n",
      "Mean of each column\n",
      "[3. 4.]\n",
      "--------------------------\n",
      " \n",
      "Center of columns by subtracting column means\n",
      "[[-2. -2.]\n",
      " [ 0.  0.]\n",
      " [ 2.  2.]]\n",
      "--------------------------\n",
      " \n",
      "Covariance of centered matrix\n",
      "[[4. 4.]\n",
      " [4. 4.]]\n",
      "--------------------------\n",
      "\n",
      "Eigenvectors:\n",
      "[[ 0.70710678 -0.70710678]\n",
      " [ 0.70710678  0.70710678]]\n",
      "--------------------------\n",
      "Eigenvalues\n",
      "[8. 0.]\n",
      "\n",
      "--------------------------\n",
      " \n",
      "Projected Data\n",
      "[[-2.82842712  0.        ]\n",
      " [ 0.          0.        ]\n",
      " [ 2.82842712  0.        ]]\n",
      "--------------------------\n"
     ]
    }
   ],
   "source": [
    "# define a matrix\n",
    "A = array([[1, 2], [3, 4], [5, 6]])\n",
    "print(\"A\")\n",
    "print(A)\n",
    "print(\"--------------------------\")\n",
    "\n",
    "# calculate the mean of each column\n",
    "M = mean(A.T, axis=1)\n",
    "print(\" \")\n",
    "print(\"Mean of each column\")\n",
    "print(M)\n",
    "print(\"--------------------------\")\n",
    "\n",
    "# center columns by subtracting column means\n",
    "C = A - M\n",
    "print(\" \")\n",
    "print(\"Center of columns by subtracting column means\")\n",
    "print(C)\n",
    "print(\"--------------------------\")\n",
    "\n",
    "# calculate covariance matrix of centered matrix\n",
    "V = cov(C.T)\n",
    "print(\" \")\n",
    "print(\"Covariance of centered matrix\")\n",
    "print(V)\n",
    "print(\"--------------------------\")\n",
    "\n",
    "# eigendecomposition of covariance matrix\n",
    "values, vectors = eig(V)\n",
    "print(\"\")\n",
    "print(\"Eigenvectors:\")\n",
    "print(vectors)\n",
    "print(\"--------------------------\")\n",
    "print(\"Eigenvalues\")\n",
    "print(values)\n",
    "print(\"\")\n",
    "print(\"--------------------------\")\n",
    "\n",
    "# project data\n",
    "P = vectors.T.dot(C.T)\n",
    "print(\" \")\n",
    "print(\"Projected Data\")\n",
    "print(P.T)\n",
    "print(\"--------------------------\")"
   ]
  }
 ],
 "metadata": {
  "kernelspec": {
   "display_name": "Python 3",
   "language": "python",
   "name": "python3"
  },
  "language_info": {
   "codemirror_mode": {
    "name": "ipython",
    "version": 3
   },
   "file_extension": ".py",
   "mimetype": "text/x-python",
   "name": "python",
   "nbconvert_exporter": "python",
   "pygments_lexer": "ipython3",
   "version": "3.7.3"
  }
 },
 "nbformat": 4,
 "nbformat_minor": 2
}
