{
  "nbformat": 4,
  "nbformat_minor": 0,
  "metadata": {
    "colab": {
      "name": "Ensemble Techniques.ipynb",
      "provenance": [],
      "collapsed_sections": []
    },
    "kernelspec": {
      "name": "python3",
      "display_name": "Python 3"
    },
    "language_info": {
      "name": "python"
    }
  },
  "cells": [
    {
      "cell_type": "markdown",
      "metadata": {
        "id": "uRyu0mc-DrWC"
      },
      "source": [
        "# Ensemble Techniques\n",
        "\n",
        "## Lab 12\n",
        "## 2012006"
      ]
    },
    {
      "cell_type": "markdown",
      "metadata": {
        "id": "p1atnF0nDjV7"
      },
      "source": [
        "Importing libraries"
      ]
    },
    {
      "cell_type": "code",
      "metadata": {
        "id": "euJ2Mjdqygqp"
      },
      "source": [
        "import pandas as pd\n",
        "from sklearn.ensemble import RandomForestClassifier\n",
        "from sklearn import preprocessing\n",
        "from sklearn.ensemble import RandomForestRegressor\n",
        "from sklearn.ensemble import AdaBoostRegressor\n",
        "from sklearn.tree import DecisionTreeRegressor"
      ],
      "execution_count": 1,
      "outputs": []
    },
    {
      "cell_type": "markdown",
      "metadata": {
        "id": "rRsqFbTnD2HN"
      },
      "source": [
        "Import data, df is for operations and data is for final result appends"
      ]
    },
    {
      "cell_type": "code",
      "metadata": {
        "id": "I-7Bdi9b26Ig"
      },
      "source": [
        "df = pd.read_csv(\"/content/ensembe_train.csv\") #operating\n",
        "data = pd.read_csv(\"/content/ensembe_train.csv\") #appending"
      ],
      "execution_count": 2,
      "outputs": []
    },
    {
      "cell_type": "markdown",
      "metadata": {
        "id": "DE8DwgPTEC-5"
      },
      "source": [
        "Looking at the data"
      ]
    },
    {
      "cell_type": "code",
      "metadata": {
        "colab": {
          "base_uri": "https://localhost:8080/",
          "height": 198
        },
        "id": "XydYU4SJ2_aA",
        "outputId": "e46cf84c-20fb-48ea-959e-ba8b39e6cc46"
      },
      "source": [
        "df.head()"
      ],
      "execution_count": 3,
      "outputs": [
        {
          "output_type": "execute_result",
          "data": {
            "text/html": [
              "<div>\n",
              "<style scoped>\n",
              "    .dataframe tbody tr th:only-of-type {\n",
              "        vertical-align: middle;\n",
              "    }\n",
              "\n",
              "    .dataframe tbody tr th {\n",
              "        vertical-align: top;\n",
              "    }\n",
              "\n",
              "    .dataframe thead th {\n",
              "        text-align: right;\n",
              "    }\n",
              "</style>\n",
              "<table border=\"1\" class=\"dataframe\">\n",
              "  <thead>\n",
              "    <tr style=\"text-align: right;\">\n",
              "      <th></th>\n",
              "      <th>id</th>\n",
              "      <th>url_legal</th>\n",
              "      <th>license</th>\n",
              "      <th>excerpt</th>\n",
              "      <th>target</th>\n",
              "      <th>standard_error</th>\n",
              "    </tr>\n",
              "  </thead>\n",
              "  <tbody>\n",
              "    <tr>\n",
              "      <th>0</th>\n",
              "      <td>c12129c31</td>\n",
              "      <td>NaN</td>\n",
              "      <td>NaN</td>\n",
              "      <td>When the young people returned to the ballroom...</td>\n",
              "      <td>-0.340259</td>\n",
              "      <td>0.464009</td>\n",
              "    </tr>\n",
              "    <tr>\n",
              "      <th>1</th>\n",
              "      <td>85aa80a4c</td>\n",
              "      <td>NaN</td>\n",
              "      <td>NaN</td>\n",
              "      <td>All through dinner time, Mrs. Fayre was somewh...</td>\n",
              "      <td>-0.315372</td>\n",
              "      <td>0.480805</td>\n",
              "    </tr>\n",
              "    <tr>\n",
              "      <th>2</th>\n",
              "      <td>b69ac6792</td>\n",
              "      <td>NaN</td>\n",
              "      <td>NaN</td>\n",
              "      <td>As Roger had predicted, the snow departed as q...</td>\n",
              "      <td>-0.580118</td>\n",
              "      <td>0.476676</td>\n",
              "    </tr>\n",
              "    <tr>\n",
              "      <th>3</th>\n",
              "      <td>dd1000b26</td>\n",
              "      <td>NaN</td>\n",
              "      <td>NaN</td>\n",
              "      <td>And outside before the palace a great garden w...</td>\n",
              "      <td>-1.054013</td>\n",
              "      <td>0.450007</td>\n",
              "    </tr>\n",
              "    <tr>\n",
              "      <th>4</th>\n",
              "      <td>37c1b32fb</td>\n",
              "      <td>NaN</td>\n",
              "      <td>NaN</td>\n",
              "      <td>Once upon a time there were Three Bears who li...</td>\n",
              "      <td>0.247197</td>\n",
              "      <td>0.510845</td>\n",
              "    </tr>\n",
              "  </tbody>\n",
              "</table>\n",
              "</div>"
            ],
            "text/plain": [
              "          id url_legal  ...    target standard_error\n",
              "0  c12129c31       NaN  ... -0.340259       0.464009\n",
              "1  85aa80a4c       NaN  ... -0.315372       0.480805\n",
              "2  b69ac6792       NaN  ... -0.580118       0.476676\n",
              "3  dd1000b26       NaN  ... -1.054013       0.450007\n",
              "4  37c1b32fb       NaN  ...  0.247197       0.510845\n",
              "\n",
              "[5 rows x 6 columns]"
            ]
          },
          "metadata": {
            "tags": []
          },
          "execution_count": 3
        }
      ]
    },
    {
      "cell_type": "markdown",
      "metadata": {
        "id": "iX9oaWY_EFU8"
      },
      "source": [
        "We can see that url_legal and license have NaN, let us see the amount of null"
      ]
    },
    {
      "cell_type": "code",
      "metadata": {
        "colab": {
          "base_uri": "https://localhost:8080/"
        },
        "id": "WG3_KiF93c9d",
        "outputId": "ddb79c4a-f7b2-4fc5-a84d-c927edd9f0b7"
      },
      "source": [
        "df.isna().sum() #null count"
      ],
      "execution_count": 4,
      "outputs": [
        {
          "output_type": "execute_result",
          "data": {
            "text/plain": [
              "id                   0\n",
              "url_legal         2004\n",
              "license           2004\n",
              "excerpt              0\n",
              "target               0\n",
              "standard_error       0\n",
              "dtype: int64"
            ]
          },
          "metadata": {
            "tags": []
          },
          "execution_count": 4
        }
      ]
    },
    {
      "cell_type": "markdown",
      "metadata": {
        "id": "Csb51hCxEQ9L"
      },
      "source": [
        "Looking at the description of all columns, we can see that the two columns have heavy amount of nulls, hence we can drop it."
      ]
    },
    {
      "cell_type": "code",
      "metadata": {
        "colab": {
          "base_uri": "https://localhost:8080/",
          "height": 108
        },
        "id": "vpSKITjI5kQt",
        "outputId": "7b1f0211-887d-49ad-db0e-7bd76b4f4528"
      },
      "source": [
        "df.describe().T"
      ],
      "execution_count": 7,
      "outputs": [
        {
          "output_type": "execute_result",
          "data": {
            "text/html": [
              "<div>\n",
              "<style scoped>\n",
              "    .dataframe tbody tr th:only-of-type {\n",
              "        vertical-align: middle;\n",
              "    }\n",
              "\n",
              "    .dataframe tbody tr th {\n",
              "        vertical-align: top;\n",
              "    }\n",
              "\n",
              "    .dataframe thead th {\n",
              "        text-align: right;\n",
              "    }\n",
              "</style>\n",
              "<table border=\"1\" class=\"dataframe\">\n",
              "  <thead>\n",
              "    <tr style=\"text-align: right;\">\n",
              "      <th></th>\n",
              "      <th>count</th>\n",
              "      <th>mean</th>\n",
              "      <th>std</th>\n",
              "      <th>min</th>\n",
              "      <th>25%</th>\n",
              "      <th>50%</th>\n",
              "      <th>75%</th>\n",
              "      <th>max</th>\n",
              "    </tr>\n",
              "  </thead>\n",
              "  <tbody>\n",
              "    <tr>\n",
              "      <th>target</th>\n",
              "      <td>2834.0</td>\n",
              "      <td>-0.959319</td>\n",
              "      <td>1.033579</td>\n",
              "      <td>-3.676268</td>\n",
              "      <td>-1.690320</td>\n",
              "      <td>-0.912190</td>\n",
              "      <td>-0.202540</td>\n",
              "      <td>1.711390</td>\n",
              "    </tr>\n",
              "    <tr>\n",
              "      <th>standard_error</th>\n",
              "      <td>2834.0</td>\n",
              "      <td>0.491435</td>\n",
              "      <td>0.034818</td>\n",
              "      <td>0.000000</td>\n",
              "      <td>0.468543</td>\n",
              "      <td>0.484721</td>\n",
              "      <td>0.506268</td>\n",
              "      <td>0.649671</td>\n",
              "    </tr>\n",
              "  </tbody>\n",
              "</table>\n",
              "</div>"
            ],
            "text/plain": [
              "                 count      mean       std  ...       50%       75%       max\n",
              "target          2834.0 -0.959319  1.033579  ... -0.912190 -0.202540  1.711390\n",
              "standard_error  2834.0  0.491435  0.034818  ...  0.484721  0.506268  0.649671\n",
              "\n",
              "[2 rows x 8 columns]"
            ]
          },
          "metadata": {
            "tags": []
          },
          "execution_count": 7
        }
      ]
    },
    {
      "cell_type": "markdown",
      "metadata": {
        "id": "s-6dG2eqEd_Q"
      },
      "source": [
        "Taking the word count of the column ```excerpt```"
      ]
    },
    {
      "cell_type": "code",
      "metadata": {
        "id": "5OJcNJDo_zD-"
      },
      "source": [
        "s = data['excerpt'].str.split(expand=True).stack().value_counts()"
      ],
      "execution_count": 20,
      "outputs": []
    },
    {
      "cell_type": "markdown",
      "metadata": {
        "id": "GNZv31dQEjra"
      },
      "source": [
        "Looking at the shape"
      ]
    },
    {
      "cell_type": "code",
      "metadata": {
        "colab": {
          "base_uri": "https://localhost:8080/"
        },
        "id": "oHXGoyPd5_f7",
        "outputId": "6833c9ee-c954-42ce-e460-7e99f9fc59f0"
      },
      "source": [
        "df.shape"
      ],
      "execution_count": 6,
      "outputs": [
        {
          "output_type": "execute_result",
          "data": {
            "text/plain": [
              "(2834, 6)"
            ]
          },
          "metadata": {
            "tags": []
          },
          "execution_count": 6
        }
      ]
    },
    {
      "cell_type": "markdown",
      "metadata": {
        "id": "nwr-bcgrEmS2"
      },
      "source": [
        "Dropping the columns"
      ]
    },
    {
      "cell_type": "code",
      "metadata": {
        "id": "H5PuP9To6XaD"
      },
      "source": [
        "df = df.drop(['url_legal','license'], axis = 1)"
      ],
      "execution_count": 8,
      "outputs": []
    },
    {
      "cell_type": "markdown",
      "metadata": {
        "id": "JjfFLH7ZEojT"
      },
      "source": [
        "Putting the data into two separate frames, for model running"
      ]
    },
    {
      "cell_type": "code",
      "metadata": {
        "id": "4iIkLxNP7pyH"
      },
      "source": [
        "target = df['target']\n",
        "train = df['excerpt']\n",
        "\n",
        "df = df.drop(['target','excerpt'],axis=1)"
      ],
      "execution_count": 9,
      "outputs": []
    },
    {
      "cell_type": "markdown",
      "metadata": {
        "id": "afKvbYMsEulX"
      },
      "source": [
        "Looking at the head"
      ]
    },
    {
      "cell_type": "code",
      "metadata": {
        "colab": {
          "base_uri": "https://localhost:8080/",
          "height": 198
        },
        "id": "sA986VAc6kGF",
        "outputId": "19f6c598-8b8e-4a4c-ccb4-6c9314c71483"
      },
      "source": [
        "df.head()"
      ],
      "execution_count": 10,
      "outputs": [
        {
          "output_type": "execute_result",
          "data": {
            "text/html": [
              "<div>\n",
              "<style scoped>\n",
              "    .dataframe tbody tr th:only-of-type {\n",
              "        vertical-align: middle;\n",
              "    }\n",
              "\n",
              "    .dataframe tbody tr th {\n",
              "        vertical-align: top;\n",
              "    }\n",
              "\n",
              "    .dataframe thead th {\n",
              "        text-align: right;\n",
              "    }\n",
              "</style>\n",
              "<table border=\"1\" class=\"dataframe\">\n",
              "  <thead>\n",
              "    <tr style=\"text-align: right;\">\n",
              "      <th></th>\n",
              "      <th>id</th>\n",
              "      <th>standard_error</th>\n",
              "    </tr>\n",
              "  </thead>\n",
              "  <tbody>\n",
              "    <tr>\n",
              "      <th>0</th>\n",
              "      <td>c12129c31</td>\n",
              "      <td>0.464009</td>\n",
              "    </tr>\n",
              "    <tr>\n",
              "      <th>1</th>\n",
              "      <td>85aa80a4c</td>\n",
              "      <td>0.480805</td>\n",
              "    </tr>\n",
              "    <tr>\n",
              "      <th>2</th>\n",
              "      <td>b69ac6792</td>\n",
              "      <td>0.476676</td>\n",
              "    </tr>\n",
              "    <tr>\n",
              "      <th>3</th>\n",
              "      <td>dd1000b26</td>\n",
              "      <td>0.450007</td>\n",
              "    </tr>\n",
              "    <tr>\n",
              "      <th>4</th>\n",
              "      <td>37c1b32fb</td>\n",
              "      <td>0.510845</td>\n",
              "    </tr>\n",
              "  </tbody>\n",
              "</table>\n",
              "</div>"
            ],
            "text/plain": [
              "          id  standard_error\n",
              "0  c12129c31        0.464009\n",
              "1  85aa80a4c        0.480805\n",
              "2  b69ac6792        0.476676\n",
              "3  dd1000b26        0.450007\n",
              "4  37c1b32fb        0.510845"
            ]
          },
          "metadata": {
            "tags": []
          },
          "execution_count": 10
        }
      ]
    },
    {
      "cell_type": "markdown",
      "metadata": {
        "id": "e18S2yGNEwmp"
      },
      "source": [
        "Since, Random forest cannot run on text data, we will encode the text data so that the regressor runs."
      ]
    },
    {
      "cell_type": "code",
      "metadata": {
        "id": "aG4iBLh19xuV"
      },
      "source": [
        "le = preprocessing.LabelEncoder()\n",
        "le.fit(train)\n",
        "train = le.transform(train)\n",
        "train= le.fit_transform(train)"
      ],
      "execution_count": 11,
      "outputs": []
    },
    {
      "cell_type": "markdown",
      "metadata": {
        "id": "7nVVBw89E8v_"
      },
      "source": [
        "Looking at the encoded label"
      ]
    },
    {
      "cell_type": "code",
      "metadata": {
        "colab": {
          "base_uri": "https://localhost:8080/"
        },
        "id": "MtzYqVfO_XgX",
        "outputId": "a99605ec-3ea4-40cc-b795-e257f91ab61b"
      },
      "source": [
        "train"
      ],
      "execution_count": 12,
      "outputs": [
        {
          "output_type": "execute_result",
          "data": {
            "text/plain": [
              "array([2743,  291,  390, ..., 2295, 1839,  369])"
            ]
          },
          "metadata": {
            "tags": []
          },
          "execution_count": 12
        }
      ]
    },
    {
      "cell_type": "markdown",
      "metadata": {
        "id": "_RGxOqKNFBLw"
      },
      "source": [
        "Since, the regressor takes 2D values and the train is 1D, that is why we need to reshape the column as 2D and then feed into regressor"
      ]
    },
    {
      "cell_type": "code",
      "metadata": {
        "id": "0Iq4ahpG92-Z"
      },
      "source": [
        "train = train.reshape(-1,1) #reshape"
      ],
      "execution_count": 13,
      "outputs": []
    },
    {
      "cell_type": "markdown",
      "metadata": {
        "id": "S4WpWy9cFPq4"
      },
      "source": [
        "The model:"
      ]
    },
    {
      "cell_type": "code",
      "metadata": {
        "id": "0A_EkwzG6odD"
      },
      "source": [
        "#model with 500 estimators\n",
        "clf = RandomForestRegressor(n_estimators = 500)\n",
        "\n",
        "# Training the model on the training dataset\n",
        "# fit function is used to train the model using the training sets as parameters\n",
        "clf.fit(train, target)\n",
        "\n",
        "# performing predictions on the test dataset\n",
        "pred = clf.predict(train)"
      ],
      "execution_count": 14,
      "outputs": []
    },
    {
      "cell_type": "code",
      "metadata": {
        "id": "pj9mooRqFhQy"
      },
      "source": [
        "#changing to datafram\n",
        "pred = pd.DataFrame(pred) "
      ],
      "execution_count": 15,
      "outputs": []
    },
    {
      "cell_type": "code",
      "metadata": {
        "id": "xEFKzVFlFcSJ"
      },
      "source": [
        "#appending the column\n",
        "data['RF-LabelEncoding'] = pred"
      ],
      "execution_count": 16,
      "outputs": []
    },
    {
      "cell_type": "markdown",
      "metadata": {
        "id": "mGHimaETHFQN"
      },
      "source": [
        "# Adaboost"
      ]
    },
    {
      "cell_type": "code",
      "metadata": {
        "id": "ojT9K1tfHYUw"
      },
      "source": [
        "#making random forest regressor\n",
        "RFR=RandomForestRegressor(n_estimators = 500)\n",
        "\n",
        "#applying adaboost\n",
        "RegModel = AdaBoostRegressor(n_estimators=50, base_estimator=RFR ,learning_rate=1)\n",
        "\n",
        "#training on the data\n",
        "AB=RegModel.fit(train, target)\n",
        "\n",
        "#taking results\n",
        "pred=AB.predict(train)"
      ],
      "execution_count": 17,
      "outputs": []
    },
    {
      "cell_type": "code",
      "metadata": {
        "id": "3EtQi9Uf7j3R"
      },
      "source": [
        "#converting to dataframe\n",
        "pred = pd.DataFrame(pred)\n",
        "\n",
        "#appending\n",
        "data['AB-LabelEncoding'] = pred"
      ],
      "execution_count": 18,
      "outputs": []
    },
    {
      "cell_type": "markdown",
      "metadata": {
        "id": "DutYH9V9GVwL"
      },
      "source": [
        "# Testing"
      ]
    },
    {
      "cell_type": "code",
      "metadata": {
        "id": "VD4J-k7pGYLx"
      },
      "source": [
        "test = pd.read_csv('/content/ensemble_test.csv')"
      ],
      "execution_count": 30,
      "outputs": []
    },
    {
      "cell_type": "code",
      "metadata": {
        "id": "r1Cb152uHUmH"
      },
      "source": [
        "test_train = test['excerpt']\n",
        "le = preprocessing.LabelEncoder()\n",
        "le.fit(test_train)\n",
        "test_train = le.transform(test_train)\n",
        "test_train= le.fit_transform(test_train)"
      ],
      "execution_count": 33,
      "outputs": []
    },
    {
      "cell_type": "code",
      "metadata": {
        "id": "gQBBbGFKHiCG"
      },
      "source": [
        "test_train = test_train.reshape(-1,1)"
      ],
      "execution_count": 36,
      "outputs": []
    },
    {
      "cell_type": "code",
      "metadata": {
        "id": "imq1hXxEGhjH"
      },
      "source": [
        "#making prediction from Bagging\n",
        "predRF = clf.predict(test_train)\n",
        "\n",
        "#making prediction from Boosting\n",
        "predAB = AB.predict(test_train)"
      ],
      "execution_count": 37,
      "outputs": []
    },
    {
      "cell_type": "code",
      "metadata": {
        "id": "Kr2jPk1yKmUi"
      },
      "source": [
        "predRF = pd.DataFrame(predRF)\n",
        "predAB = pd.DataFrame(predAB)"
      ],
      "execution_count": 38,
      "outputs": []
    },
    {
      "cell_type": "code",
      "metadata": {
        "id": "SVkhSssAHwvJ"
      },
      "source": [
        "test['target-RF'] = predRF\n",
        "test['target-AB'] = predAB"
      ],
      "execution_count": 39,
      "outputs": []
    },
    {
      "cell_type": "markdown",
      "metadata": {
        "id": "zlTbhc_aBfSh"
      },
      "source": [
        "# Dataframe"
      ]
    },
    {
      "cell_type": "code",
      "metadata": {
        "id": "rwysx0sOBhsC"
      },
      "source": [
        "#making dataframe\n",
        "output = test.to_csv('output.csv',index=False)"
      ],
      "execution_count": 54,
      "outputs": []
    }
  ]
}