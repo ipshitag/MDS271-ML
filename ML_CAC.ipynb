{
  "nbformat": 4,
  "nbformat_minor": 0,
  "metadata": {
    "kernelspec": {
      "display_name": "Python 3",
      "language": "python",
      "name": "python3"
    },
    "language_info": {
      "codemirror_mode": {
        "name": "ipython",
        "version": 3
      },
      "file_extension": ".py",
      "mimetype": "text/x-python",
      "name": "python",
      "nbconvert_exporter": "python",
      "pygments_lexer": "ipython3",
      "version": "3.7.3"
    },
    "colab": {
      "name": "ML_CAC.ipynb",
      "provenance": [],
      "collapsed_sections": [
        "HszaEbaozqR9",
        "c7A-NHu1yrIc",
        "TDxjX96YyuhS",
        "oaDMRDb-yzJl",
        "aFzCdePBy_Vy",
        "54GfM26bzEqM",
        "Z2v4yUOmzGm7",
        "4eaJ38kXzJKP",
        "-BdY8ss5zN3I",
        "NlRfkvF4zSzb",
        "DM2olAqNzVxr",
        "NGs_rU-vzYoN",
        "0oZBq9gL4PCK",
        "J2ChccpK5ya0",
        "WiCA72dW51J5",
        "sAyFilML6eh-",
        "kUrY3Adh-JBp",
        "K0WyFXEpI6NK",
        "27lEdkehjXFo"
      ]
    }
  },
  "cells": [
    {
      "cell_type": "markdown",
      "metadata": {
        "id": "WSJI0NBf3gQC"
      },
      "source": [
        "# Libraries"
      ]
    },
    {
      "cell_type": "code",
      "metadata": {
        "id": "qZbdMaYJv3G8"
      },
      "source": [
        "#data wrangling\n",
        "import numpy as np\n",
        "import pandas as pd\n",
        "\n",
        "#model buildng\n",
        "from sklearn.model_selection import train_test_split\n",
        "from sklearn.feature_selection import SelectKBest\n",
        "from sklearn.feature_selection import f_regression\n",
        "from sklearn.linear_model import LinearRegression\n",
        "from statsmodels.formula.api import glm\n",
        "import xgboost as xg\n",
        "\n",
        "#feature selection\n",
        "from sklearn.decomposition import PCA\n",
        "from statsmodels.stats.outliers_influence import variance_inflation_factor\n",
        "from sklearn.feature_selection import SelectKBest\n",
        "from sklearn.feature_selection import f_classif\n",
        "\n",
        "#scaling\n",
        "from sklearn.preprocessing import RobustScaler\n",
        "from sklearn.preprocessing import StandardScaler\n",
        "from sklearn.preprocessing import MinMaxScaler\n",
        "\n",
        "#model evaluation\n",
        "from sklearn.metrics import r2_score\n",
        "from sklearn.metrics import mean_absolute_error\n",
        "\n",
        "#graph\n",
        "import matplotlib.pyplot as plt\n",
        "\n",
        "#statistical\n",
        "import statsmodels.api as sm\n",
        "from scipy import stats\n",
        "from scipy.stats import kendalltau\n",
        "\n",
        "#extra\n",
        "import warnings\n",
        "warnings.filterwarnings(\"ignore\")"
      ],
      "execution_count": 29,
      "outputs": []
    },
    {
      "cell_type": "code",
      "metadata": {
        "id": "I01-d7erv3G_"
      },
      "source": [
        "data = pd.read_csv('datasetCAC.csv')"
      ],
      "execution_count": 30,
      "outputs": []
    },
    {
      "cell_type": "code",
      "metadata": {
        "colab": {
          "base_uri": "https://localhost:8080/",
          "height": 247
        },
        "id": "MfYFwITZv3HB",
        "outputId": "306ead69-7119-40af-bfa0-37a2aaa267d6"
      },
      "source": [
        "data.head()"
      ],
      "execution_count": 31,
      "outputs": [
        {
          "output_type": "execute_result",
          "data": {
            "text/html": [
              "<div>\n",
              "<style scoped>\n",
              "    .dataframe tbody tr th:only-of-type {\n",
              "        vertical-align: middle;\n",
              "    }\n",
              "\n",
              "    .dataframe tbody tr th {\n",
              "        vertical-align: top;\n",
              "    }\n",
              "\n",
              "    .dataframe thead th {\n",
              "        text-align: right;\n",
              "    }\n",
              "</style>\n",
              "<table border=\"1\" class=\"dataframe\">\n",
              "  <thead>\n",
              "    <tr style=\"text-align: right;\">\n",
              "      <th></th>\n",
              "      <th>x001</th>\n",
              "      <th>x002</th>\n",
              "      <th>x003</th>\n",
              "      <th>x004</th>\n",
              "      <th>x005</th>\n",
              "      <th>x006</th>\n",
              "      <th>x007</th>\n",
              "      <th>x008</th>\n",
              "      <th>x009</th>\n",
              "      <th>x010</th>\n",
              "      <th>x011</th>\n",
              "      <th>x012</th>\n",
              "      <th>x013</th>\n",
              "      <th>x014</th>\n",
              "      <th>x015</th>\n",
              "      <th>x016</th>\n",
              "      <th>x017</th>\n",
              "      <th>x018</th>\n",
              "      <th>x019</th>\n",
              "      <th>x020</th>\n",
              "      <th>x021</th>\n",
              "      <th>x022</th>\n",
              "      <th>x023</th>\n",
              "      <th>x024</th>\n",
              "      <th>x025</th>\n",
              "      <th>x026</th>\n",
              "      <th>x027</th>\n",
              "      <th>x028</th>\n",
              "      <th>x029</th>\n",
              "      <th>x030</th>\n",
              "      <th>x031</th>\n",
              "      <th>x032</th>\n",
              "      <th>x033</th>\n",
              "      <th>x034</th>\n",
              "      <th>x035</th>\n",
              "      <th>x036</th>\n",
              "      <th>x037</th>\n",
              "      <th>x038</th>\n",
              "      <th>x039</th>\n",
              "      <th>x040</th>\n",
              "      <th>...</th>\n",
              "      <th>x266</th>\n",
              "      <th>x267</th>\n",
              "      <th>x268</th>\n",
              "      <th>x269</th>\n",
              "      <th>x270</th>\n",
              "      <th>x271</th>\n",
              "      <th>x272</th>\n",
              "      <th>x273</th>\n",
              "      <th>x274</th>\n",
              "      <th>x275</th>\n",
              "      <th>x276</th>\n",
              "      <th>x277</th>\n",
              "      <th>x278</th>\n",
              "      <th>x279</th>\n",
              "      <th>x280</th>\n",
              "      <th>x281</th>\n",
              "      <th>x282</th>\n",
              "      <th>x283</th>\n",
              "      <th>x284</th>\n",
              "      <th>x285</th>\n",
              "      <th>x286</th>\n",
              "      <th>x287</th>\n",
              "      <th>x288</th>\n",
              "      <th>x289</th>\n",
              "      <th>x290</th>\n",
              "      <th>x291</th>\n",
              "      <th>x292</th>\n",
              "      <th>x293</th>\n",
              "      <th>x294</th>\n",
              "      <th>x295</th>\n",
              "      <th>x296</th>\n",
              "      <th>x297</th>\n",
              "      <th>x298</th>\n",
              "      <th>x299</th>\n",
              "      <th>x300</th>\n",
              "      <th>x301</th>\n",
              "      <th>x302</th>\n",
              "      <th>x303</th>\n",
              "      <th>x304</th>\n",
              "      <th>y</th>\n",
              "    </tr>\n",
              "  </thead>\n",
              "  <tbody>\n",
              "    <tr>\n",
              "      <th>0</th>\n",
              "      <td>1540332</td>\n",
              "      <td>NaN</td>\n",
              "      <td>NaN</td>\n",
              "      <td>NaN</td>\n",
              "      <td>8.0</td>\n",
              "      <td>1</td>\n",
              "      <td>0</td>\n",
              "      <td>1</td>\n",
              "      <td>0</td>\n",
              "      <td>0</td>\n",
              "      <td>0</td>\n",
              "      <td>0</td>\n",
              "      <td>0</td>\n",
              "      <td>0</td>\n",
              "      <td>1</td>\n",
              "      <td>0</td>\n",
              "      <td>1</td>\n",
              "      <td>1</td>\n",
              "      <td>0</td>\n",
              "      <td>1</td>\n",
              "      <td>0</td>\n",
              "      <td>1</td>\n",
              "      <td>0</td>\n",
              "      <td>0</td>\n",
              "      <td>0</td>\n",
              "      <td>0</td>\n",
              "      <td>1</td>\n",
              "      <td>0</td>\n",
              "      <td>0</td>\n",
              "      <td>1</td>\n",
              "      <td>2</td>\n",
              "      <td>0</td>\n",
              "      <td>0</td>\n",
              "      <td>0</td>\n",
              "      <td>1</td>\n",
              "      <td>1</td>\n",
              "      <td>0</td>\n",
              "      <td>0</td>\n",
              "      <td>0</td>\n",
              "      <td>1</td>\n",
              "      <td>...</td>\n",
              "      <td>NaN</td>\n",
              "      <td>NaN</td>\n",
              "      <td>NaN</td>\n",
              "      <td>0</td>\n",
              "      <td>0</td>\n",
              "      <td>0</td>\n",
              "      <td>0.0000</td>\n",
              "      <td>0</td>\n",
              "      <td>0</td>\n",
              "      <td>NaN</td>\n",
              "      <td>0</td>\n",
              "      <td>0</td>\n",
              "      <td>0</td>\n",
              "      <td>0</td>\n",
              "      <td>0</td>\n",
              "      <td>0</td>\n",
              "      <td>1</td>\n",
              "      <td>1</td>\n",
              "      <td>1</td>\n",
              "      <td>0</td>\n",
              "      <td>0</td>\n",
              "      <td>NaN</td>\n",
              "      <td>NaN</td>\n",
              "      <td>NaN</td>\n",
              "      <td>NaN</td>\n",
              "      <td>0</td>\n",
              "      <td>0</td>\n",
              "      <td>NaN</td>\n",
              "      <td>0</td>\n",
              "      <td>NaN</td>\n",
              "      <td>0</td>\n",
              "      <td>NaN</td>\n",
              "      <td>0</td>\n",
              "      <td>0</td>\n",
              "      <td>0</td>\n",
              "      <td>0</td>\n",
              "      <td>NaN</td>\n",
              "      <td>0</td>\n",
              "      <td>NaN</td>\n",
              "      <td>706</td>\n",
              "    </tr>\n",
              "    <tr>\n",
              "      <th>1</th>\n",
              "      <td>823066</td>\n",
              "      <td>4.0</td>\n",
              "      <td>3.0</td>\n",
              "      <td>3.0</td>\n",
              "      <td>4.0</td>\n",
              "      <td>0</td>\n",
              "      <td>2</td>\n",
              "      <td>2</td>\n",
              "      <td>0</td>\n",
              "      <td>0</td>\n",
              "      <td>0</td>\n",
              "      <td>0</td>\n",
              "      <td>0</td>\n",
              "      <td>0</td>\n",
              "      <td>2</td>\n",
              "      <td>2</td>\n",
              "      <td>0</td>\n",
              "      <td>2</td>\n",
              "      <td>2</td>\n",
              "      <td>0</td>\n",
              "      <td>0</td>\n",
              "      <td>0</td>\n",
              "      <td>0</td>\n",
              "      <td>2</td>\n",
              "      <td>0</td>\n",
              "      <td>1</td>\n",
              "      <td>0</td>\n",
              "      <td>0</td>\n",
              "      <td>1</td>\n",
              "      <td>0</td>\n",
              "      <td>14</td>\n",
              "      <td>7</td>\n",
              "      <td>8</td>\n",
              "      <td>10</td>\n",
              "      <td>11</td>\n",
              "      <td>8</td>\n",
              "      <td>1</td>\n",
              "      <td>2</td>\n",
              "      <td>4</td>\n",
              "      <td>5</td>\n",
              "      <td>...</td>\n",
              "      <td>4.0</td>\n",
              "      <td>4.0</td>\n",
              "      <td>0.9256</td>\n",
              "      <td>1</td>\n",
              "      <td>1</td>\n",
              "      <td>1</td>\n",
              "      <td>0.9339</td>\n",
              "      <td>5206</td>\n",
              "      <td>0</td>\n",
              "      <td>NaN</td>\n",
              "      <td>0</td>\n",
              "      <td>0</td>\n",
              "      <td>0</td>\n",
              "      <td>5206</td>\n",
              "      <td>0</td>\n",
              "      <td>5206</td>\n",
              "      <td>1</td>\n",
              "      <td>1</td>\n",
              "      <td>1</td>\n",
              "      <td>2</td>\n",
              "      <td>0</td>\n",
              "      <td>1.0</td>\n",
              "      <td>4.0</td>\n",
              "      <td>3.0</td>\n",
              "      <td>3.5</td>\n",
              "      <td>5206</td>\n",
              "      <td>5206</td>\n",
              "      <td>0.9339</td>\n",
              "      <td>0</td>\n",
              "      <td>NaN</td>\n",
              "      <td>5206</td>\n",
              "      <td>0.9339</td>\n",
              "      <td>1</td>\n",
              "      <td>1</td>\n",
              "      <td>1</td>\n",
              "      <td>0</td>\n",
              "      <td>NaN</td>\n",
              "      <td>0</td>\n",
              "      <td>NaN</td>\n",
              "      <td>558</td>\n",
              "    </tr>\n",
              "    <tr>\n",
              "      <th>2</th>\n",
              "      <td>1089795</td>\n",
              "      <td>NaN</td>\n",
              "      <td>NaN</td>\n",
              "      <td>NaN</td>\n",
              "      <td>96.0</td>\n",
              "      <td>1</td>\n",
              "      <td>0</td>\n",
              "      <td>0</td>\n",
              "      <td>0</td>\n",
              "      <td>1</td>\n",
              "      <td>3</td>\n",
              "      <td>4</td>\n",
              "      <td>1</td>\n",
              "      <td>0</td>\n",
              "      <td>9</td>\n",
              "      <td>0</td>\n",
              "      <td>9</td>\n",
              "      <td>2</td>\n",
              "      <td>0</td>\n",
              "      <td>9</td>\n",
              "      <td>0</td>\n",
              "      <td>2</td>\n",
              "      <td>0</td>\n",
              "      <td>0</td>\n",
              "      <td>0</td>\n",
              "      <td>0</td>\n",
              "      <td>1</td>\n",
              "      <td>0</td>\n",
              "      <td>0</td>\n",
              "      <td>3</td>\n",
              "      <td>4</td>\n",
              "      <td>0</td>\n",
              "      <td>0</td>\n",
              "      <td>0</td>\n",
              "      <td>0</td>\n",
              "      <td>1</td>\n",
              "      <td>0</td>\n",
              "      <td>0</td>\n",
              "      <td>0</td>\n",
              "      <td>0</td>\n",
              "      <td>...</td>\n",
              "      <td>NaN</td>\n",
              "      <td>NaN</td>\n",
              "      <td>NaN</td>\n",
              "      <td>0</td>\n",
              "      <td>0</td>\n",
              "      <td>0</td>\n",
              "      <td>0.2281</td>\n",
              "      <td>1613</td>\n",
              "      <td>1613</td>\n",
              "      <td>0.4814</td>\n",
              "      <td>0</td>\n",
              "      <td>0</td>\n",
              "      <td>0</td>\n",
              "      <td>0</td>\n",
              "      <td>0</td>\n",
              "      <td>0</td>\n",
              "      <td>1</td>\n",
              "      <td>1</td>\n",
              "      <td>1</td>\n",
              "      <td>0</td>\n",
              "      <td>0</td>\n",
              "      <td>NaN</td>\n",
              "      <td>NaN</td>\n",
              "      <td>NaN</td>\n",
              "      <td>NaN</td>\n",
              "      <td>0</td>\n",
              "      <td>0</td>\n",
              "      <td>NaN</td>\n",
              "      <td>0</td>\n",
              "      <td>NaN</td>\n",
              "      <td>0</td>\n",
              "      <td>NaN</td>\n",
              "      <td>0</td>\n",
              "      <td>0</td>\n",
              "      <td>0</td>\n",
              "      <td>0</td>\n",
              "      <td>NaN</td>\n",
              "      <td>0</td>\n",
              "      <td>NaN</td>\n",
              "      <td>577</td>\n",
              "    </tr>\n",
              "    <tr>\n",
              "      <th>3</th>\n",
              "      <td>1147758</td>\n",
              "      <td>63.0</td>\n",
              "      <td>14.0</td>\n",
              "      <td>38.0</td>\n",
              "      <td>258.0</td>\n",
              "      <td>0</td>\n",
              "      <td>0</td>\n",
              "      <td>0</td>\n",
              "      <td>1</td>\n",
              "      <td>2</td>\n",
              "      <td>1</td>\n",
              "      <td>1</td>\n",
              "      <td>1</td>\n",
              "      <td>1</td>\n",
              "      <td>7</td>\n",
              "      <td>2</td>\n",
              "      <td>5</td>\n",
              "      <td>5</td>\n",
              "      <td>2</td>\n",
              "      <td>4</td>\n",
              "      <td>1</td>\n",
              "      <td>3</td>\n",
              "      <td>1</td>\n",
              "      <td>3</td>\n",
              "      <td>0</td>\n",
              "      <td>0</td>\n",
              "      <td>1</td>\n",
              "      <td>0</td>\n",
              "      <td>0</td>\n",
              "      <td>3</td>\n",
              "      <td>1</td>\n",
              "      <td>0</td>\n",
              "      <td>0</td>\n",
              "      <td>1</td>\n",
              "      <td>1</td>\n",
              "      <td>1</td>\n",
              "      <td>0</td>\n",
              "      <td>0</td>\n",
              "      <td>1</td>\n",
              "      <td>1</td>\n",
              "      <td>...</td>\n",
              "      <td>NaN</td>\n",
              "      <td>NaN</td>\n",
              "      <td>NaN</td>\n",
              "      <td>0</td>\n",
              "      <td>0</td>\n",
              "      <td>0</td>\n",
              "      <td>0.8204</td>\n",
              "      <td>62558</td>\n",
              "      <td>4796</td>\n",
              "      <td>1.1153</td>\n",
              "      <td>1</td>\n",
              "      <td>2</td>\n",
              "      <td>2</td>\n",
              "      <td>58218</td>\n",
              "      <td>58218</td>\n",
              "      <td>0</td>\n",
              "      <td>1</td>\n",
              "      <td>1</td>\n",
              "      <td>1</td>\n",
              "      <td>1</td>\n",
              "      <td>0</td>\n",
              "      <td>2.0</td>\n",
              "      <td>63.0</td>\n",
              "      <td>63.0</td>\n",
              "      <td>63.0</td>\n",
              "      <td>57762</td>\n",
              "      <td>57762</td>\n",
              "      <td>0.8231</td>\n",
              "      <td>57762</td>\n",
              "      <td>0.8231</td>\n",
              "      <td>0</td>\n",
              "      <td>NaN</td>\n",
              "      <td>1</td>\n",
              "      <td>1</td>\n",
              "      <td>1</td>\n",
              "      <td>0</td>\n",
              "      <td>NaN</td>\n",
              "      <td>0</td>\n",
              "      <td>NaN</td>\n",
              "      <td>526</td>\n",
              "    </tr>\n",
              "    <tr>\n",
              "      <th>4</th>\n",
              "      <td>1229670</td>\n",
              "      <td>34.0</td>\n",
              "      <td>25.0</td>\n",
              "      <td>29.0</td>\n",
              "      <td>34.0</td>\n",
              "      <td>1</td>\n",
              "      <td>0</td>\n",
              "      <td>0</td>\n",
              "      <td>0</td>\n",
              "      <td>3</td>\n",
              "      <td>0</td>\n",
              "      <td>0</td>\n",
              "      <td>0</td>\n",
              "      <td>0</td>\n",
              "      <td>3</td>\n",
              "      <td>2</td>\n",
              "      <td>1</td>\n",
              "      <td>2</td>\n",
              "      <td>1</td>\n",
              "      <td>3</td>\n",
              "      <td>2</td>\n",
              "      <td>2</td>\n",
              "      <td>1</td>\n",
              "      <td>0</td>\n",
              "      <td>0</td>\n",
              "      <td>0</td>\n",
              "      <td>1</td>\n",
              "      <td>0</td>\n",
              "      <td>0</td>\n",
              "      <td>1</td>\n",
              "      <td>1</td>\n",
              "      <td>0</td>\n",
              "      <td>0</td>\n",
              "      <td>0</td>\n",
              "      <td>0</td>\n",
              "      <td>1</td>\n",
              "      <td>0</td>\n",
              "      <td>0</td>\n",
              "      <td>0</td>\n",
              "      <td>0</td>\n",
              "      <td>...</td>\n",
              "      <td>NaN</td>\n",
              "      <td>NaN</td>\n",
              "      <td>NaN</td>\n",
              "      <td>0</td>\n",
              "      <td>0</td>\n",
              "      <td>0</td>\n",
              "      <td>0.1000</td>\n",
              "      <td>190</td>\n",
              "      <td>186</td>\n",
              "      <td>0.1430</td>\n",
              "      <td>1</td>\n",
              "      <td>1</td>\n",
              "      <td>1</td>\n",
              "      <td>190</td>\n",
              "      <td>190</td>\n",
              "      <td>0</td>\n",
              "      <td>1</td>\n",
              "      <td>1</td>\n",
              "      <td>1</td>\n",
              "      <td>0</td>\n",
              "      <td>0</td>\n",
              "      <td>NaN</td>\n",
              "      <td>NaN</td>\n",
              "      <td>NaN</td>\n",
              "      <td>NaN</td>\n",
              "      <td>0</td>\n",
              "      <td>0</td>\n",
              "      <td>NaN</td>\n",
              "      <td>0</td>\n",
              "      <td>NaN</td>\n",
              "      <td>0</td>\n",
              "      <td>NaN</td>\n",
              "      <td>0</td>\n",
              "      <td>0</td>\n",
              "      <td>0</td>\n",
              "      <td>0</td>\n",
              "      <td>NaN</td>\n",
              "      <td>0</td>\n",
              "      <td>NaN</td>\n",
              "      <td>496</td>\n",
              "    </tr>\n",
              "  </tbody>\n",
              "</table>\n",
              "<p>5 rows × 305 columns</p>\n",
              "</div>"
            ],
            "text/plain": [
              "      x001  x002  x003  x004   x005  x006  ...  x300  x301  x302  x303  x304    y\n",
              "0  1540332   NaN   NaN   NaN    8.0     1  ...     0     0   NaN     0   NaN  706\n",
              "1   823066   4.0   3.0   3.0    4.0     0  ...     1     0   NaN     0   NaN  558\n",
              "2  1089795   NaN   NaN   NaN   96.0     1  ...     0     0   NaN     0   NaN  577\n",
              "3  1147758  63.0  14.0  38.0  258.0     0  ...     1     0   NaN     0   NaN  526\n",
              "4  1229670  34.0  25.0  29.0   34.0     1  ...     0     0   NaN     0   NaN  496\n",
              "\n",
              "[5 rows x 305 columns]"
            ]
          },
          "metadata": {
            "tags": []
          },
          "execution_count": 31
        }
      ]
    },
    {
      "cell_type": "code",
      "metadata": {
        "colab": {
          "base_uri": "https://localhost:8080/"
        },
        "id": "d5j_g0q4v3HB",
        "outputId": "5be3b96c-edf1-4b96-9213-30d43091954a"
      },
      "source": [
        "data.info()"
      ],
      "execution_count": 32,
      "outputs": [
        {
          "output_type": "stream",
          "text": [
            "<class 'pandas.core.frame.DataFrame'>\n",
            "RangeIndex: 100000 entries, 0 to 99999\n",
            "Columns: 305 entries, x001 to y\n",
            "dtypes: float64(41), int64(264)\n",
            "memory usage: 232.7 MB\n"
          ],
          "name": "stdout"
        }
      ]
    },
    {
      "cell_type": "code",
      "metadata": {
        "colab": {
          "base_uri": "https://localhost:8080/",
          "height": 337
        },
        "id": "qltA6SSUv3HC",
        "outputId": "ecb532ba-45f7-4c6d-d8ba-519fa1aa68b2"
      },
      "source": [
        "data.describe()"
      ],
      "execution_count": 33,
      "outputs": [
        {
          "output_type": "execute_result",
          "data": {
            "text/html": [
              "<div>\n",
              "<style scoped>\n",
              "    .dataframe tbody tr th:only-of-type {\n",
              "        vertical-align: middle;\n",
              "    }\n",
              "\n",
              "    .dataframe tbody tr th {\n",
              "        vertical-align: top;\n",
              "    }\n",
              "\n",
              "    .dataframe thead th {\n",
              "        text-align: right;\n",
              "    }\n",
              "</style>\n",
              "<table border=\"1\" class=\"dataframe\">\n",
              "  <thead>\n",
              "    <tr style=\"text-align: right;\">\n",
              "      <th></th>\n",
              "      <th>x001</th>\n",
              "      <th>x002</th>\n",
              "      <th>x003</th>\n",
              "      <th>x004</th>\n",
              "      <th>x005</th>\n",
              "      <th>x006</th>\n",
              "      <th>x007</th>\n",
              "      <th>x008</th>\n",
              "      <th>x009</th>\n",
              "      <th>x010</th>\n",
              "      <th>x011</th>\n",
              "      <th>x012</th>\n",
              "      <th>x013</th>\n",
              "      <th>x014</th>\n",
              "      <th>x015</th>\n",
              "      <th>x016</th>\n",
              "      <th>x017</th>\n",
              "      <th>x018</th>\n",
              "      <th>x019</th>\n",
              "      <th>x020</th>\n",
              "      <th>x021</th>\n",
              "      <th>x022</th>\n",
              "      <th>x023</th>\n",
              "      <th>x024</th>\n",
              "      <th>x025</th>\n",
              "      <th>x026</th>\n",
              "      <th>x027</th>\n",
              "      <th>x028</th>\n",
              "      <th>x029</th>\n",
              "      <th>x030</th>\n",
              "      <th>x031</th>\n",
              "      <th>x032</th>\n",
              "      <th>x033</th>\n",
              "      <th>x034</th>\n",
              "      <th>x035</th>\n",
              "      <th>x036</th>\n",
              "      <th>x037</th>\n",
              "      <th>x038</th>\n",
              "      <th>x039</th>\n",
              "      <th>x040</th>\n",
              "      <th>...</th>\n",
              "      <th>x266</th>\n",
              "      <th>x267</th>\n",
              "      <th>x268</th>\n",
              "      <th>x269</th>\n",
              "      <th>x270</th>\n",
              "      <th>x271</th>\n",
              "      <th>x272</th>\n",
              "      <th>x273</th>\n",
              "      <th>x274</th>\n",
              "      <th>x275</th>\n",
              "      <th>x276</th>\n",
              "      <th>x277</th>\n",
              "      <th>x278</th>\n",
              "      <th>x279</th>\n",
              "      <th>x280</th>\n",
              "      <th>x281</th>\n",
              "      <th>x282</th>\n",
              "      <th>x283</th>\n",
              "      <th>x284</th>\n",
              "      <th>x285</th>\n",
              "      <th>x286</th>\n",
              "      <th>x287</th>\n",
              "      <th>x288</th>\n",
              "      <th>x289</th>\n",
              "      <th>x290</th>\n",
              "      <th>x291</th>\n",
              "      <th>x292</th>\n",
              "      <th>x293</th>\n",
              "      <th>x294</th>\n",
              "      <th>x295</th>\n",
              "      <th>x296</th>\n",
              "      <th>x297</th>\n",
              "      <th>x298</th>\n",
              "      <th>x299</th>\n",
              "      <th>x300</th>\n",
              "      <th>x301</th>\n",
              "      <th>x302</th>\n",
              "      <th>x303</th>\n",
              "      <th>x304</th>\n",
              "      <th>y</th>\n",
              "    </tr>\n",
              "  </thead>\n",
              "  <tbody>\n",
              "    <tr>\n",
              "      <th>count</th>\n",
              "      <td>1.000000e+05</td>\n",
              "      <td>78568.000000</td>\n",
              "      <td>78568.000000</td>\n",
              "      <td>78576.000000</td>\n",
              "      <td>93890.000000</td>\n",
              "      <td>100000.000000</td>\n",
              "      <td>100000.000000</td>\n",
              "      <td>100000.000000</td>\n",
              "      <td>100000.000000</td>\n",
              "      <td>100000.000000</td>\n",
              "      <td>100000.000000</td>\n",
              "      <td>100000.00000</td>\n",
              "      <td>100000.000000</td>\n",
              "      <td>100000.000000</td>\n",
              "      <td>100000.000000</td>\n",
              "      <td>100000.000000</td>\n",
              "      <td>100000.000000</td>\n",
              "      <td>100000.000000</td>\n",
              "      <td>100000.000000</td>\n",
              "      <td>100000.000000</td>\n",
              "      <td>100000.000000</td>\n",
              "      <td>100000.000000</td>\n",
              "      <td>100000.00000</td>\n",
              "      <td>100000.000000</td>\n",
              "      <td>100000.000000</td>\n",
              "      <td>100000.000000</td>\n",
              "      <td>100000.000000</td>\n",
              "      <td>100000.000000</td>\n",
              "      <td>100000.000000</td>\n",
              "      <td>100000.000000</td>\n",
              "      <td>100000.000000</td>\n",
              "      <td>100000.000000</td>\n",
              "      <td>100000.000000</td>\n",
              "      <td>100000.000000</td>\n",
              "      <td>100000.000000</td>\n",
              "      <td>100000.000000</td>\n",
              "      <td>100000.000000</td>\n",
              "      <td>100000.000000</td>\n",
              "      <td>100000.000000</td>\n",
              "      <td>100000.000000</td>\n",
              "      <td>...</td>\n",
              "      <td>33539.000000</td>\n",
              "      <td>33539.000000</td>\n",
              "      <td>32747.000000</td>\n",
              "      <td>100000.000000</td>\n",
              "      <td>100000.000000</td>\n",
              "      <td>100000.000000</td>\n",
              "      <td>92811.000000</td>\n",
              "      <td>1.000000e+05</td>\n",
              "      <td>1.000000e+05</td>\n",
              "      <td>43869.000000</td>\n",
              "      <td>100000.000000</td>\n",
              "      <td>100000.000000</td>\n",
              "      <td>100000.000000</td>\n",
              "      <td>1.000000e+05</td>\n",
              "      <td>1.000000e+05</td>\n",
              "      <td>1.000000e+05</td>\n",
              "      <td>100000.000000</td>\n",
              "      <td>100000.000000</td>\n",
              "      <td>100000.000000</td>\n",
              "      <td>100000.000000</td>\n",
              "      <td>100000.000000</td>\n",
              "      <td>75179.000000</td>\n",
              "      <td>50244.000000</td>\n",
              "      <td>50244.000000</td>\n",
              "      <td>50244.000000</td>\n",
              "      <td>1.000000e+05</td>\n",
              "      <td>1.000000e+05</td>\n",
              "      <td>48867.000000</td>\n",
              "      <td>1.000000e+05</td>\n",
              "      <td>13467.000000</td>\n",
              "      <td>1.000000e+05</td>\n",
              "      <td>41888.000000</td>\n",
              "      <td>100000.000000</td>\n",
              "      <td>100000.000000</td>\n",
              "      <td>100000.000000</td>\n",
              "      <td>100000.000000</td>\n",
              "      <td>26931.000000</td>\n",
              "      <td>100000.000000</td>\n",
              "      <td>18125.000000</td>\n",
              "      <td>100000.000000</td>\n",
              "    </tr>\n",
              "    <tr>\n",
              "      <th>mean</th>\n",
              "      <td>1.218244e+06</td>\n",
              "      <td>125.711727</td>\n",
              "      <td>25.541238</td>\n",
              "      <td>65.393212</td>\n",
              "      <td>178.238545</td>\n",
              "      <td>0.314040</td>\n",
              "      <td>0.694000</td>\n",
              "      <td>1.388220</td>\n",
              "      <td>1.192980</td>\n",
              "      <td>1.026990</td>\n",
              "      <td>1.843240</td>\n",
              "      <td>1.60794</td>\n",
              "      <td>1.576860</td>\n",
              "      <td>4.306830</td>\n",
              "      <td>12.943060</td>\n",
              "      <td>4.089260</td>\n",
              "      <td>8.853800</td>\n",
              "      <td>3.988200</td>\n",
              "      <td>2.147260</td>\n",
              "      <td>6.798700</td>\n",
              "      <td>2.283170</td>\n",
              "      <td>1.730500</td>\n",
              "      <td>1.08584</td>\n",
              "      <td>4.733060</td>\n",
              "      <td>0.318520</td>\n",
              "      <td>0.569790</td>\n",
              "      <td>0.751520</td>\n",
              "      <td>0.801850</td>\n",
              "      <td>1.476120</td>\n",
              "      <td>4.037540</td>\n",
              "      <td>5.351920</td>\n",
              "      <td>0.266290</td>\n",
              "      <td>0.817610</td>\n",
              "      <td>1.706180</td>\n",
              "      <td>3.143720</td>\n",
              "      <td>3.228160</td>\n",
              "      <td>0.159220</td>\n",
              "      <td>0.492090</td>\n",
              "      <td>1.013240</td>\n",
              "      <td>1.867910</td>\n",
              "      <td>...</td>\n",
              "      <td>21.155491</td>\n",
              "      <td>23.857482</td>\n",
              "      <td>0.704708</td>\n",
              "      <td>0.373070</td>\n",
              "      <td>0.384530</td>\n",
              "      <td>0.403520</td>\n",
              "      <td>0.587940</td>\n",
              "      <td>6.822113e+04</td>\n",
              "      <td>4.942003e+03</td>\n",
              "      <td>0.893664</td>\n",
              "      <td>0.256510</td>\n",
              "      <td>0.285610</td>\n",
              "      <td>0.348880</td>\n",
              "      <td>6.565756e+04</td>\n",
              "      <td>9.516506e+03</td>\n",
              "      <td>5.614105e+04</td>\n",
              "      <td>0.865850</td>\n",
              "      <td>0.873840</td>\n",
              "      <td>0.884140</td>\n",
              "      <td>1.391490</td>\n",
              "      <td>0.115260</td>\n",
              "      <td>3.239309</td>\n",
              "      <td>51.697994</td>\n",
              "      <td>25.445526</td>\n",
              "      <td>38.331656</td>\n",
              "      <td>1.461510e+04</td>\n",
              "      <td>5.839332e+04</td>\n",
              "      <td>0.812575</td>\n",
              "      <td>2.795508e+03</td>\n",
              "      <td>0.901304</td>\n",
              "      <td>1.181960e+04</td>\n",
              "      <td>0.794034</td>\n",
              "      <td>0.543320</td>\n",
              "      <td>0.558030</td>\n",
              "      <td>0.581830</td>\n",
              "      <td>0.106240</td>\n",
              "      <td>2.948758</td>\n",
              "      <td>6410.882910</td>\n",
              "      <td>1.037957</td>\n",
              "      <td>619.198230</td>\n",
              "    </tr>\n",
              "    <tr>\n",
              "      <th>std</th>\n",
              "      <td>2.728977e+05</td>\n",
              "      <td>115.785117</td>\n",
              "      <td>49.028751</td>\n",
              "      <td>63.592317</td>\n",
              "      <td>124.520628</td>\n",
              "      <td>0.464135</td>\n",
              "      <td>1.379378</td>\n",
              "      <td>2.282805</td>\n",
              "      <td>2.031083</td>\n",
              "      <td>1.713823</td>\n",
              "      <td>2.711524</td>\n",
              "      <td>2.58239</td>\n",
              "      <td>2.609533</td>\n",
              "      <td>5.473131</td>\n",
              "      <td>11.957652</td>\n",
              "      <td>4.622082</td>\n",
              "      <td>9.254211</td>\n",
              "      <td>2.361058</td>\n",
              "      <td>1.748446</td>\n",
              "      <td>7.829639</td>\n",
              "      <td>3.161361</td>\n",
              "      <td>1.120072</td>\n",
              "      <td>1.01191</td>\n",
              "      <td>7.159681</td>\n",
              "      <td>0.465905</td>\n",
              "      <td>0.495108</td>\n",
              "      <td>0.432134</td>\n",
              "      <td>1.579586</td>\n",
              "      <td>2.036195</td>\n",
              "      <td>4.782564</td>\n",
              "      <td>7.723711</td>\n",
              "      <td>0.890543</td>\n",
              "      <td>1.841711</td>\n",
              "      <td>3.138606</td>\n",
              "      <td>5.061691</td>\n",
              "      <td>3.471222</td>\n",
              "      <td>0.404389</td>\n",
              "      <td>0.814005</td>\n",
              "      <td>1.352606</td>\n",
              "      <td>2.191034</td>\n",
              "      <td>...</td>\n",
              "      <td>20.437170</td>\n",
              "      <td>20.987196</td>\n",
              "      <td>0.254535</td>\n",
              "      <td>0.483623</td>\n",
              "      <td>0.486486</td>\n",
              "      <td>0.490606</td>\n",
              "      <td>5.392342</td>\n",
              "      <td>1.787024e+05</td>\n",
              "      <td>2.905449e+04</td>\n",
              "      <td>13.087050</td>\n",
              "      <td>0.939979</td>\n",
              "      <td>1.008686</td>\n",
              "      <td>1.131413</td>\n",
              "      <td>1.779148e+05</td>\n",
              "      <td>5.026287e+04</td>\n",
              "      <td>1.705259e+05</td>\n",
              "      <td>0.340815</td>\n",
              "      <td>0.332031</td>\n",
              "      <td>0.320059</td>\n",
              "      <td>2.682935</td>\n",
              "      <td>0.695126</td>\n",
              "      <td>3.090414</td>\n",
              "      <td>52.700032</td>\n",
              "      <td>34.674418</td>\n",
              "      <td>38.882567</td>\n",
              "      <td>3.771714e+04</td>\n",
              "      <td>1.645305e+05</td>\n",
              "      <td>0.321268</td>\n",
              "      <td>1.751578e+04</td>\n",
              "      <td>0.433850</td>\n",
              "      <td>3.226469e+04</td>\n",
              "      <td>0.288249</td>\n",
              "      <td>0.498122</td>\n",
              "      <td>0.496624</td>\n",
              "      <td>0.493261</td>\n",
              "      <td>0.308146</td>\n",
              "      <td>2.129430</td>\n",
              "      <td>24190.243313</td>\n",
              "      <td>0.330580</td>\n",
              "      <td>118.461932</td>\n",
              "    </tr>\n",
              "    <tr>\n",
              "      <th>min</th>\n",
              "      <td>5.170000e+02</td>\n",
              "      <td>0.000000</td>\n",
              "      <td>0.000000</td>\n",
              "      <td>0.000000</td>\n",
              "      <td>0.000000</td>\n",
              "      <td>0.000000</td>\n",
              "      <td>0.000000</td>\n",
              "      <td>0.000000</td>\n",
              "      <td>0.000000</td>\n",
              "      <td>0.000000</td>\n",
              "      <td>0.000000</td>\n",
              "      <td>0.00000</td>\n",
              "      <td>0.000000</td>\n",
              "      <td>0.000000</td>\n",
              "      <td>0.000000</td>\n",
              "      <td>0.000000</td>\n",
              "      <td>0.000000</td>\n",
              "      <td>0.000000</td>\n",
              "      <td>0.000000</td>\n",
              "      <td>0.000000</td>\n",
              "      <td>0.000000</td>\n",
              "      <td>0.000000</td>\n",
              "      <td>0.00000</td>\n",
              "      <td>0.000000</td>\n",
              "      <td>0.000000</td>\n",
              "      <td>0.000000</td>\n",
              "      <td>0.000000</td>\n",
              "      <td>0.000000</td>\n",
              "      <td>0.000000</td>\n",
              "      <td>0.000000</td>\n",
              "      <td>0.000000</td>\n",
              "      <td>0.000000</td>\n",
              "      <td>0.000000</td>\n",
              "      <td>0.000000</td>\n",
              "      <td>0.000000</td>\n",
              "      <td>0.000000</td>\n",
              "      <td>0.000000</td>\n",
              "      <td>0.000000</td>\n",
              "      <td>0.000000</td>\n",
              "      <td>0.000000</td>\n",
              "      <td>...</td>\n",
              "      <td>0.000000</td>\n",
              "      <td>0.000000</td>\n",
              "      <td>0.000000</td>\n",
              "      <td>0.000000</td>\n",
              "      <td>0.000000</td>\n",
              "      <td>0.000000</td>\n",
              "      <td>0.000000</td>\n",
              "      <td>0.000000e+00</td>\n",
              "      <td>0.000000e+00</td>\n",
              "      <td>0.000000</td>\n",
              "      <td>0.000000</td>\n",
              "      <td>0.000000</td>\n",
              "      <td>0.000000</td>\n",
              "      <td>0.000000e+00</td>\n",
              "      <td>0.000000e+00</td>\n",
              "      <td>0.000000e+00</td>\n",
              "      <td>0.000000</td>\n",
              "      <td>0.000000</td>\n",
              "      <td>0.000000</td>\n",
              "      <td>0.000000</td>\n",
              "      <td>0.000000</td>\n",
              "      <td>1.000000</td>\n",
              "      <td>0.000000</td>\n",
              "      <td>0.000000</td>\n",
              "      <td>0.000000</td>\n",
              "      <td>0.000000e+00</td>\n",
              "      <td>0.000000e+00</td>\n",
              "      <td>0.000000</td>\n",
              "      <td>0.000000e+00</td>\n",
              "      <td>0.000000</td>\n",
              "      <td>0.000000e+00</td>\n",
              "      <td>0.000000</td>\n",
              "      <td>0.000000</td>\n",
              "      <td>0.000000</td>\n",
              "      <td>0.000000</td>\n",
              "      <td>0.000000</td>\n",
              "      <td>1.000000</td>\n",
              "      <td>0.000000</td>\n",
              "      <td>0.000000</td>\n",
              "      <td>300.000000</td>\n",
              "    </tr>\n",
              "    <tr>\n",
              "      <th>25%</th>\n",
              "      <td>9.743635e+05</td>\n",
              "      <td>32.000000</td>\n",
              "      <td>3.000000</td>\n",
              "      <td>19.000000</td>\n",
              "      <td>87.000000</td>\n",
              "      <td>0.000000</td>\n",
              "      <td>0.000000</td>\n",
              "      <td>0.000000</td>\n",
              "      <td>0.000000</td>\n",
              "      <td>0.000000</td>\n",
              "      <td>0.000000</td>\n",
              "      <td>0.00000</td>\n",
              "      <td>0.000000</td>\n",
              "      <td>0.000000</td>\n",
              "      <td>4.000000</td>\n",
              "      <td>1.000000</td>\n",
              "      <td>2.000000</td>\n",
              "      <td>2.000000</td>\n",
              "      <td>1.000000</td>\n",
              "      <td>1.000000</td>\n",
              "      <td>0.000000</td>\n",
              "      <td>1.000000</td>\n",
              "      <td>0.00000</td>\n",
              "      <td>1.000000</td>\n",
              "      <td>0.000000</td>\n",
              "      <td>0.000000</td>\n",
              "      <td>1.000000</td>\n",
              "      <td>0.000000</td>\n",
              "      <td>0.000000</td>\n",
              "      <td>1.000000</td>\n",
              "      <td>1.000000</td>\n",
              "      <td>0.000000</td>\n",
              "      <td>0.000000</td>\n",
              "      <td>0.000000</td>\n",
              "      <td>0.000000</td>\n",
              "      <td>1.000000</td>\n",
              "      <td>0.000000</td>\n",
              "      <td>0.000000</td>\n",
              "      <td>0.000000</td>\n",
              "      <td>0.000000</td>\n",
              "      <td>...</td>\n",
              "      <td>7.000000</td>\n",
              "      <td>9.000000</td>\n",
              "      <td>0.548100</td>\n",
              "      <td>0.000000</td>\n",
              "      <td>0.000000</td>\n",
              "      <td>0.000000</td>\n",
              "      <td>0.076400</td>\n",
              "      <td>1.084000e+03</td>\n",
              "      <td>0.000000e+00</td>\n",
              "      <td>0.033000</td>\n",
              "      <td>0.000000</td>\n",
              "      <td>0.000000</td>\n",
              "      <td>0.000000</td>\n",
              "      <td>3.400000e+01</td>\n",
              "      <td>0.000000e+00</td>\n",
              "      <td>0.000000e+00</td>\n",
              "      <td>1.000000</td>\n",
              "      <td>1.000000</td>\n",
              "      <td>1.000000</td>\n",
              "      <td>0.000000</td>\n",
              "      <td>0.000000</td>\n",
              "      <td>1.000000</td>\n",
              "      <td>14.000000</td>\n",
              "      <td>5.000000</td>\n",
              "      <td>11.666600</td>\n",
              "      <td>0.000000e+00</td>\n",
              "      <td>0.000000e+00</td>\n",
              "      <td>0.640600</td>\n",
              "      <td>0.000000e+00</td>\n",
              "      <td>0.656350</td>\n",
              "      <td>0.000000e+00</td>\n",
              "      <td>0.636900</td>\n",
              "      <td>0.000000</td>\n",
              "      <td>0.000000</td>\n",
              "      <td>0.000000</td>\n",
              "      <td>0.000000</td>\n",
              "      <td>1.000000</td>\n",
              "      <td>0.000000</td>\n",
              "      <td>0.975800</td>\n",
              "      <td>524.000000</td>\n",
              "    </tr>\n",
              "    <tr>\n",
              "      <th>50%</th>\n",
              "      <td>1.235926e+06</td>\n",
              "      <td>100.000000</td>\n",
              "      <td>8.000000</td>\n",
              "      <td>48.000000</td>\n",
              "      <td>150.000000</td>\n",
              "      <td>0.000000</td>\n",
              "      <td>0.000000</td>\n",
              "      <td>1.000000</td>\n",
              "      <td>0.000000</td>\n",
              "      <td>0.000000</td>\n",
              "      <td>1.000000</td>\n",
              "      <td>1.00000</td>\n",
              "      <td>0.000000</td>\n",
              "      <td>2.000000</td>\n",
              "      <td>10.000000</td>\n",
              "      <td>3.000000</td>\n",
              "      <td>6.000000</td>\n",
              "      <td>4.000000</td>\n",
              "      <td>2.000000</td>\n",
              "      <td>4.000000</td>\n",
              "      <td>1.000000</td>\n",
              "      <td>2.000000</td>\n",
              "      <td>1.00000</td>\n",
              "      <td>2.000000</td>\n",
              "      <td>0.000000</td>\n",
              "      <td>1.000000</td>\n",
              "      <td>1.000000</td>\n",
              "      <td>0.000000</td>\n",
              "      <td>1.000000</td>\n",
              "      <td>3.000000</td>\n",
              "      <td>3.000000</td>\n",
              "      <td>0.000000</td>\n",
              "      <td>0.000000</td>\n",
              "      <td>1.000000</td>\n",
              "      <td>1.000000</td>\n",
              "      <td>2.000000</td>\n",
              "      <td>0.000000</td>\n",
              "      <td>0.000000</td>\n",
              "      <td>1.000000</td>\n",
              "      <td>1.000000</td>\n",
              "      <td>...</td>\n",
              "      <td>16.000000</td>\n",
              "      <td>19.000000</td>\n",
              "      <td>0.770100</td>\n",
              "      <td>0.000000</td>\n",
              "      <td>0.000000</td>\n",
              "      <td>0.000000</td>\n",
              "      <td>0.287300</td>\n",
              "      <td>1.297400e+04</td>\n",
              "      <td>0.000000e+00</td>\n",
              "      <td>0.554400</td>\n",
              "      <td>0.000000</td>\n",
              "      <td>0.000000</td>\n",
              "      <td>0.000000</td>\n",
              "      <td>9.695000e+03</td>\n",
              "      <td>0.000000e+00</td>\n",
              "      <td>4.253000e+03</td>\n",
              "      <td>1.000000</td>\n",
              "      <td>1.000000</td>\n",
              "      <td>1.000000</td>\n",
              "      <td>1.000000</td>\n",
              "      <td>0.000000</td>\n",
              "      <td>1.000000</td>\n",
              "      <td>32.000000</td>\n",
              "      <td>14.000000</td>\n",
              "      <td>26.000000</td>\n",
              "      <td>0.000000e+00</td>\n",
              "      <td>4.758000e+03</td>\n",
              "      <td>0.860100</td>\n",
              "      <td>0.000000e+00</td>\n",
              "      <td>0.940600</td>\n",
              "      <td>0.000000e+00</td>\n",
              "      <td>0.851000</td>\n",
              "      <td>1.000000</td>\n",
              "      <td>1.000000</td>\n",
              "      <td>1.000000</td>\n",
              "      <td>0.000000</td>\n",
              "      <td>1.000000</td>\n",
              "      <td>0.000000</td>\n",
              "      <td>1.048600</td>\n",
              "      <td>599.000000</td>\n",
              "    </tr>\n",
              "    <tr>\n",
              "      <th>75%</th>\n",
              "      <td>1.445326e+06</td>\n",
              "      <td>180.000000</td>\n",
              "      <td>24.000000</td>\n",
              "      <td>92.000000</td>\n",
              "      <td>246.000000</td>\n",
              "      <td>1.000000</td>\n",
              "      <td>1.000000</td>\n",
              "      <td>2.000000</td>\n",
              "      <td>2.000000</td>\n",
              "      <td>1.000000</td>\n",
              "      <td>3.000000</td>\n",
              "      <td>2.00000</td>\n",
              "      <td>2.000000</td>\n",
              "      <td>7.000000</td>\n",
              "      <td>19.000000</td>\n",
              "      <td>6.000000</td>\n",
              "      <td>13.000000</td>\n",
              "      <td>6.000000</td>\n",
              "      <td>3.000000</td>\n",
              "      <td>10.000000</td>\n",
              "      <td>3.000000</td>\n",
              "      <td>3.000000</td>\n",
              "      <td>2.00000</td>\n",
              "      <td>6.000000</td>\n",
              "      <td>1.000000</td>\n",
              "      <td>1.000000</td>\n",
              "      <td>1.000000</td>\n",
              "      <td>1.000000</td>\n",
              "      <td>2.000000</td>\n",
              "      <td>6.000000</td>\n",
              "      <td>7.000000</td>\n",
              "      <td>0.000000</td>\n",
              "      <td>1.000000</td>\n",
              "      <td>2.000000</td>\n",
              "      <td>4.000000</td>\n",
              "      <td>5.000000</td>\n",
              "      <td>0.000000</td>\n",
              "      <td>1.000000</td>\n",
              "      <td>2.000000</td>\n",
              "      <td>3.000000</td>\n",
              "      <td>...</td>\n",
              "      <td>29.000000</td>\n",
              "      <td>32.000000</td>\n",
              "      <td>0.915200</td>\n",
              "      <td>1.000000</td>\n",
              "      <td>1.000000</td>\n",
              "      <td>1.000000</td>\n",
              "      <td>0.571100</td>\n",
              "      <td>5.777725e+04</td>\n",
              "      <td>8.520000e+02</td>\n",
              "      <td>1.000000</td>\n",
              "      <td>0.000000</td>\n",
              "      <td>0.000000</td>\n",
              "      <td>0.000000</td>\n",
              "      <td>5.381500e+04</td>\n",
              "      <td>1.820000e+02</td>\n",
              "      <td>3.570575e+04</td>\n",
              "      <td>1.000000</td>\n",
              "      <td>1.000000</td>\n",
              "      <td>1.000000</td>\n",
              "      <td>2.000000</td>\n",
              "      <td>0.000000</td>\n",
              "      <td>5.000000</td>\n",
              "      <td>74.000000</td>\n",
              "      <td>31.000000</td>\n",
              "      <td>52.000000</td>\n",
              "      <td>1.712800e+04</td>\n",
              "      <td>4.333125e+04</td>\n",
              "      <td>0.997000</td>\n",
              "      <td>0.000000e+00</td>\n",
              "      <td>1.140950</td>\n",
              "      <td>1.295600e+04</td>\n",
              "      <td>0.982000</td>\n",
              "      <td>1.000000</td>\n",
              "      <td>1.000000</td>\n",
              "      <td>1.000000</td>\n",
              "      <td>0.000000</td>\n",
              "      <td>5.000000</td>\n",
              "      <td>0.000000</td>\n",
              "      <td>1.186200</td>\n",
              "      <td>720.000000</td>\n",
              "    </tr>\n",
              "    <tr>\n",
              "      <th>max</th>\n",
              "      <td>1.677197e+06</td>\n",
              "      <td>718.000000</td>\n",
              "      <td>704.000000</td>\n",
              "      <td>704.000000</td>\n",
              "      <td>827.000000</td>\n",
              "      <td>1.000000</td>\n",
              "      <td>44.000000</td>\n",
              "      <td>108.000000</td>\n",
              "      <td>81.000000</td>\n",
              "      <td>33.000000</td>\n",
              "      <td>44.000000</td>\n",
              "      <td>44.00000</td>\n",
              "      <td>42.000000</td>\n",
              "      <td>68.000000</td>\n",
              "      <td>189.000000</td>\n",
              "      <td>87.000000</td>\n",
              "      <td>162.000000</td>\n",
              "      <td>16.000000</td>\n",
              "      <td>11.000000</td>\n",
              "      <td>159.000000</td>\n",
              "      <td>84.000000</td>\n",
              "      <td>6.000000</td>\n",
              "      <td>5.00000</td>\n",
              "      <td>129.000000</td>\n",
              "      <td>1.000000</td>\n",
              "      <td>1.000000</td>\n",
              "      <td>1.000000</td>\n",
              "      <td>47.000000</td>\n",
              "      <td>46.000000</td>\n",
              "      <td>134.000000</td>\n",
              "      <td>201.000000</td>\n",
              "      <td>34.000000</td>\n",
              "      <td>58.000000</td>\n",
              "      <td>105.000000</td>\n",
              "      <td>176.000000</td>\n",
              "      <td>47.000000</td>\n",
              "      <td>4.000000</td>\n",
              "      <td>13.000000</td>\n",
              "      <td>20.000000</td>\n",
              "      <td>34.000000</td>\n",
              "      <td>...</td>\n",
              "      <td>349.000000</td>\n",
              "      <td>349.000000</td>\n",
              "      <td>2.103300</td>\n",
              "      <td>1.000000</td>\n",
              "      <td>1.000000</td>\n",
              "      <td>1.000000</td>\n",
              "      <td>608.100000</td>\n",
              "      <td>1.522472e+07</td>\n",
              "      <td>2.699159e+06</td>\n",
              "      <td>2328.080400</td>\n",
              "      <td>29.000000</td>\n",
              "      <td>29.000000</td>\n",
              "      <td>32.000000</td>\n",
              "      <td>1.522472e+07</td>\n",
              "      <td>4.087029e+06</td>\n",
              "      <td>1.522406e+07</td>\n",
              "      <td>1.000000</td>\n",
              "      <td>1.000000</td>\n",
              "      <td>1.000000</td>\n",
              "      <td>41.000000</td>\n",
              "      <td>27.000000</td>\n",
              "      <td>9.000000</td>\n",
              "      <td>529.000000</td>\n",
              "      <td>465.000000</td>\n",
              "      <td>465.000000</td>\n",
              "      <td>4.348891e+06</td>\n",
              "      <td>1.520793e+07</td>\n",
              "      <td>18.399900</td>\n",
              "      <td>3.721366e+06</td>\n",
              "      <td>18.399900</td>\n",
              "      <td>2.696702e+06</td>\n",
              "      <td>13.035300</td>\n",
              "      <td>1.000000</td>\n",
              "      <td>1.000000</td>\n",
              "      <td>1.000000</td>\n",
              "      <td>1.000000</td>\n",
              "      <td>9.000000</td>\n",
              "      <td>785537.000000</td>\n",
              "      <td>5.156900</td>\n",
              "      <td>839.000000</td>\n",
              "    </tr>\n",
              "  </tbody>\n",
              "</table>\n",
              "<p>8 rows × 305 columns</p>\n",
              "</div>"
            ],
            "text/plain": [
              "               x001          x002  ...          x304              y\n",
              "count  1.000000e+05  78568.000000  ...  18125.000000  100000.000000\n",
              "mean   1.218244e+06    125.711727  ...      1.037957     619.198230\n",
              "std    2.728977e+05    115.785117  ...      0.330580     118.461932\n",
              "min    5.170000e+02      0.000000  ...      0.000000     300.000000\n",
              "25%    9.743635e+05     32.000000  ...      0.975800     524.000000\n",
              "50%    1.235926e+06    100.000000  ...      1.048600     599.000000\n",
              "75%    1.445326e+06    180.000000  ...      1.186200     720.000000\n",
              "max    1.677197e+06    718.000000  ...      5.156900     839.000000\n",
              "\n",
              "[8 rows x 305 columns]"
            ]
          },
          "metadata": {
            "tags": []
          },
          "execution_count": 33
        }
      ]
    },
    {
      "cell_type": "markdown",
      "metadata": {
        "id": "Y0geqcCiv3HD"
      },
      "source": [
        "# Missing"
      ]
    },
    {
      "cell_type": "code",
      "metadata": {
        "colab": {
          "base_uri": "https://localhost:8080/"
        },
        "id": "Enc4YY7Sv3HD",
        "outputId": "a5ade8f1-f888-43c3-c97c-e77edcf92466"
      },
      "source": [
        "data.isnull().sum()"
      ],
      "execution_count": 34,
      "outputs": [
        {
          "output_type": "execute_result",
          "data": {
            "text/plain": [
              "x001        0\n",
              "x002    21432\n",
              "x003    21432\n",
              "x004    21424\n",
              "x005     6110\n",
              "        ...  \n",
              "x301        0\n",
              "x302    73069\n",
              "x303        0\n",
              "x304    81875\n",
              "y           0\n",
              "Length: 305, dtype: int64"
            ]
          },
          "metadata": {
            "tags": []
          },
          "execution_count": 34
        }
      ]
    },
    {
      "cell_type": "code",
      "metadata": {
        "id": "2nSv3kifv3HE"
      },
      "source": [
        "d = data.isnull().any()"
      ],
      "execution_count": 35,
      "outputs": []
    },
    {
      "cell_type": "code",
      "metadata": {
        "colab": {
          "base_uri": "https://localhost:8080/"
        },
        "id": "JcnT_bUJv3HE",
        "outputId": "66f4f47e-d89c-44ce-e75c-6ebcae7c3cb6"
      },
      "source": [
        "#calculating percentage of missing data and storing in a dictionary\n",
        "k = {}\n",
        "for i,j in zip(d,data):\n",
        "    if i==True:\n",
        "        print(\"{} - {} % \".format(j,data[j].isnull().sum()/1000))\n",
        "        k[j] = data[j].isnull().sum()/1000"
      ],
      "execution_count": 36,
      "outputs": [
        {
          "output_type": "stream",
          "text": [
            "x002 - 21.432 % \n",
            "x003 - 21.432 % \n",
            "x004 - 21.424 % \n",
            "x005 - 6.11 % \n",
            "x041 - 36.872 % \n",
            "x044 - 19.674 % \n",
            "x045 - 19.674 % \n",
            "x057 - 36.872 % \n",
            "x058 - 36.872 % \n",
            "x098 - 80.681 % \n",
            "x148 - 41.785 % \n",
            "x155 - 79.051 % \n",
            "x162 - 66.481 % \n",
            "x222 - 36.987 % \n",
            "x223 - 37.069 % \n",
            "x234 - 19.11 % \n",
            "x235 - 20.083 % \n",
            "x237 - 36.744 % \n",
            "x238 - 36.744 % \n",
            "x239 - 36.744 % \n",
            "x242 - 93.339 % \n",
            "x253 - 66.333 % \n",
            "x255 - 76.913 % \n",
            "x256 - 76.913 % \n",
            "x257 - 76.913 % \n",
            "x259 - 77.432 % \n",
            "x265 - 66.461 % \n",
            "x266 - 66.461 % \n",
            "x267 - 66.461 % \n",
            "x268 - 67.253 % \n",
            "x272 - 7.189 % \n",
            "x275 - 56.131 % \n",
            "x287 - 24.821 % \n",
            "x288 - 49.756 % \n",
            "x289 - 49.756 % \n",
            "x290 - 49.756 % \n",
            "x293 - 51.133 % \n",
            "x295 - 86.533 % \n",
            "x297 - 58.112 % \n",
            "x302 - 73.069 % \n",
            "x304 - 81.875 % \n"
          ],
          "name": "stdout"
        }
      ]
    },
    {
      "cell_type": "code",
      "metadata": {
        "id": "zjMvsYqSv3HF"
      },
      "source": [
        "#removing columns with more that 75% missing data\n",
        "for i in k:\n",
        "    if k[i]>=75:\n",
        "        data = data.drop([i],axis=1)\n",
        "\n",
        "#filling rest with mean    \n",
        "for i in data:\n",
        "    data[i].fillna(int(data[i].mean()), inplace=True)\n",
        "#print(data)"
      ],
      "execution_count": 37,
      "outputs": []
    },
    {
      "cell_type": "code",
      "metadata": {
        "colab": {
          "base_uri": "https://localhost:8080/"
        },
        "id": "9MGuIZvXv3HF",
        "outputId": "0a550c3d-17cb-4702-9d68-27caaec44586"
      },
      "source": [
        "#check\n",
        "data.isnull().any().sum()"
      ],
      "execution_count": 38,
      "outputs": [
        {
          "output_type": "execute_result",
          "data": {
            "text/plain": [
              "0"
            ]
          },
          "metadata": {
            "tags": []
          },
          "execution_count": 38
        }
      ]
    },
    {
      "cell_type": "markdown",
      "metadata": {
        "id": "2yyWf9ydv3HG"
      },
      "source": [
        "<hr>"
      ]
    },
    {
      "cell_type": "code",
      "metadata": {
        "id": "I3WsZDgZv3HH"
      },
      "source": [
        "y = data[['y']]\n",
        "data = data.drop(['y'],axis=1)"
      ],
      "execution_count": 39,
      "outputs": []
    },
    {
      "cell_type": "code",
      "metadata": {
        "colab": {
          "base_uri": "https://localhost:8080/"
        },
        "id": "8EsGXHfiv3HH",
        "outputId": "aad45c1c-d1f5-498e-d499-91e09cbfb3d9"
      },
      "source": [
        "print(y.shape)\n",
        "print(data.shape)"
      ],
      "execution_count": 40,
      "outputs": [
        {
          "output_type": "stream",
          "text": [
            "(100000, 1)\n",
            "(100000, 295)\n"
          ],
          "name": "stdout"
        }
      ]
    },
    {
      "cell_type": "markdown",
      "metadata": {
        "id": "VMAhXepdv3HH"
      },
      "source": [
        "<hr>"
      ]
    },
    {
      "cell_type": "markdown",
      "metadata": {
        "id": "HszaEbaozqR9"
      },
      "source": [
        "# No Scaling (Linear Regression)"
      ]
    },
    {
      "cell_type": "markdown",
      "metadata": {
        "id": "c7A-NHu1yrIc"
      },
      "source": [
        "## 1"
      ]
    },
    {
      "cell_type": "code",
      "metadata": {
        "id": "8s0gQRyXv3HI"
      },
      "source": [
        "#splitting\n",
        "X_train, X_test, y_train, y_test = train_test_split(data, y, test_size=0.33, random_state=1)"
      ],
      "execution_count": 41,
      "outputs": []
    },
    {
      "cell_type": "code",
      "metadata": {
        "colab": {
          "base_uri": "https://localhost:8080/"
        },
        "id": "NAEFer3hv3HI",
        "outputId": "ce447a60-da84-437f-a59d-8e71f6992d5a"
      },
      "source": [
        "model = LinearRegression()\n",
        "model.fit(X_train, y_train)\n",
        "# evaluate the model\n",
        "yhat = model.predict(X_test)\n",
        "# evaluate predictions\n",
        "mae = mean_absolute_error(y_test, yhat)\n",
        "print('MAE: %.3f' % mae)\n",
        "r2 = r2_score(y_test,yhat)\n",
        "print('R2: %.3f' %r2)"
      ],
      "execution_count": 42,
      "outputs": [
        {
          "output_type": "stream",
          "text": [
            "MAE: 35.222\n",
            "R2: 0.846\n"
          ],
          "name": "stdout"
        }
      ]
    },
    {
      "cell_type": "markdown",
      "metadata": {
        "id": "Tk-K47pfv3HI"
      },
      "source": [
        "<hr>"
      ]
    },
    {
      "cell_type": "markdown",
      "metadata": {
        "id": "TDxjX96YyuhS"
      },
      "source": [
        "## 2"
      ]
    },
    {
      "cell_type": "code",
      "metadata": {
        "id": "a0f5Sh94v3HJ"
      },
      "source": [
        "x_temp = sm.add_constant(X_train)\n",
        "\n",
        "vif = pd.DataFrame()\n",
        "vif[\"VIF Factor\"] = [variance_inflation_factor(x_temp.values, i) for i in range(x_temp.values.shape[1])]\n",
        "vif[\"features\"] = x_temp.columns\n",
        "#print(vif.round(1))"
      ],
      "execution_count": 43,
      "outputs": []
    },
    {
      "cell_type": "code",
      "metadata": {
        "colab": {
          "base_uri": "https://localhost:8080/"
        },
        "id": "zQ0XgdDLv3HJ",
        "outputId": "f389b378-ebe7-425c-e426-3398a8f1d4ea"
      },
      "source": [
        "print(\"vif: \", vif.shape)\n",
        "print(\"main: \", data.shape)"
      ],
      "execution_count": 44,
      "outputs": [
        {
          "output_type": "stream",
          "text": [
            "vif:  (296, 2)\n",
            "main:  (100000, 295)\n"
          ],
          "name": "stdout"
        }
      ]
    },
    {
      "cell_type": "code",
      "metadata": {
        "id": "_XmZz8A8v3HJ"
      },
      "source": [
        "k = []\n",
        "t=0\n",
        "for i,j in zip(data.index,vif.index):\n",
        "    if vif['VIF Factor'][j] < 5:\n",
        "        k.append(vif['features'][j])\n",
        "        #print(j)"
      ],
      "execution_count": 45,
      "outputs": []
    },
    {
      "cell_type": "code",
      "metadata": {
        "id": "0Nr-lJB2v3HK"
      },
      "source": [
        "new_dataset = data[k]"
      ],
      "execution_count": 46,
      "outputs": []
    },
    {
      "cell_type": "code",
      "metadata": {
        "colab": {
          "base_uri": "https://localhost:8080/"
        },
        "id": "yDjHbSWXOny5",
        "outputId": "02eb3e31-ef6c-40d8-aaf5-30a794f3b6a6"
      },
      "source": [
        "\n",
        "new_dataset.shape "
      ],
      "execution_count": 47,
      "outputs": [
        {
          "output_type": "execute_result",
          "data": {
            "text/plain": [
              "(100000, 58)"
            ]
          },
          "metadata": {
            "tags": []
          },
          "execution_count": 47
        }
      ]
    },
    {
      "cell_type": "code",
      "metadata": {
        "id": "6_SsP8lIv3HK"
      },
      "source": [
        "X_train, X_test, y_train, y_test = train_test_split(new_dataset, y, test_size=0.33, random_state=1)"
      ],
      "execution_count": 48,
      "outputs": []
    },
    {
      "cell_type": "code",
      "metadata": {
        "colab": {
          "base_uri": "https://localhost:8080/"
        },
        "id": "0FXb2d6iv3HK",
        "outputId": "54cf22c6-0075-4757-95eb-621063231e2e"
      },
      "source": [
        "print(X_train.shape)\n",
        "print(X_test.shape)\n",
        "print(y_train.shape)\n",
        "print(y_test.shape)"
      ],
      "execution_count": 49,
      "outputs": [
        {
          "output_type": "stream",
          "text": [
            "(67000, 58)\n",
            "(33000, 58)\n",
            "(67000, 1)\n",
            "(33000, 1)\n"
          ],
          "name": "stdout"
        }
      ]
    },
    {
      "cell_type": "code",
      "metadata": {
        "colab": {
          "base_uri": "https://localhost:8080/"
        },
        "id": "piaUlAh7v3HK",
        "outputId": "30faf167-701e-4096-e8c7-a4d3559769bc"
      },
      "source": [
        "model = LinearRegression()\n",
        "model.fit(X_train, y_train)\n",
        "# evaluate the model\n",
        "yhat = model.predict(X_test)\n",
        "# evaluate predictions\n",
        "mae = mean_absolute_error(y_test, yhat)\n",
        "print('MAE: %.3f' % mae)\n",
        "r2 = r2_score(y_test,yhat)\n",
        "print('R2: %.3f' %r2)"
      ],
      "execution_count": 50,
      "outputs": [
        {
          "output_type": "stream",
          "text": [
            "MAE: 50.367\n",
            "R2: 0.716\n"
          ],
          "name": "stdout"
        }
      ]
    },
    {
      "cell_type": "markdown",
      "metadata": {
        "id": "BPSZx_Rov3HL"
      },
      "source": [
        "<hr>"
      ]
    },
    {
      "cell_type": "markdown",
      "metadata": {
        "id": "oaDMRDb-yzJl"
      },
      "source": [
        "## 3"
      ]
    },
    {
      "cell_type": "code",
      "metadata": {
        "id": "2Ff2L2mBv3HL"
      },
      "source": [
        "k = {}\n",
        "for i in data:\n",
        "    k[i] = data[i].unique().sum()"
      ],
      "execution_count": 51,
      "outputs": []
    },
    {
      "cell_type": "code",
      "metadata": {
        "id": "zARDWPHSv3HL"
      },
      "source": [
        "cat_features = []\n",
        "cont_features = []\n",
        "for i in k:\n",
        "    if k[i]<7:\n",
        "        cat_features.append(i)\n",
        "    else:\n",
        "        cont_features.append(i)"
      ],
      "execution_count": 52,
      "outputs": []
    },
    {
      "cell_type": "code",
      "metadata": {
        "id": "Qr6ZW0nJv3HM"
      },
      "source": [
        "new_dataset_cat = data[cat_features]\n",
        "new_dataset_cont = data[cont_features]"
      ],
      "execution_count": 53,
      "outputs": []
    },
    {
      "cell_type": "code",
      "metadata": {
        "colab": {
          "base_uri": "https://localhost:8080/",
          "height": 218
        },
        "id": "Pm7Y0eJvv3HM",
        "outputId": "4a8b52ce-69e8-4597-818f-502d4b50ed04"
      },
      "source": [
        "new_dataset_cat.head()"
      ],
      "execution_count": 54,
      "outputs": [
        {
          "output_type": "execute_result",
          "data": {
            "text/html": [
              "<div>\n",
              "<style scoped>\n",
              "    .dataframe tbody tr th:only-of-type {\n",
              "        vertical-align: middle;\n",
              "    }\n",
              "\n",
              "    .dataframe tbody tr th {\n",
              "        vertical-align: top;\n",
              "    }\n",
              "\n",
              "    .dataframe thead th {\n",
              "        text-align: right;\n",
              "    }\n",
              "</style>\n",
              "<table border=\"1\" class=\"dataframe\">\n",
              "  <thead>\n",
              "    <tr style=\"text-align: right;\">\n",
              "      <th></th>\n",
              "      <th>x006</th>\n",
              "      <th>x025</th>\n",
              "      <th>x026</th>\n",
              "      <th>x027</th>\n",
              "      <th>x060</th>\n",
              "      <th>x067</th>\n",
              "      <th>x077</th>\n",
              "      <th>x082</th>\n",
              "      <th>x083</th>\n",
              "      <th>x084</th>\n",
              "      <th>x085</th>\n",
              "      <th>x086</th>\n",
              "      <th>x087</th>\n",
              "      <th>x088</th>\n",
              "      <th>x089</th>\n",
              "      <th>x090</th>\n",
              "      <th>x091</th>\n",
              "      <th>x092</th>\n",
              "      <th>x093</th>\n",
              "      <th>x094</th>\n",
              "      <th>x095</th>\n",
              "      <th>x096</th>\n",
              "      <th>x147</th>\n",
              "      <th>x154</th>\n",
              "      <th>x161</th>\n",
              "      <th>x180</th>\n",
              "      <th>x244</th>\n",
              "      <th>x245</th>\n",
              "      <th>x246</th>\n",
              "      <th>x247</th>\n",
              "      <th>x248</th>\n",
              "      <th>x249</th>\n",
              "      <th>x252</th>\n",
              "      <th>x260</th>\n",
              "      <th>x261</th>\n",
              "      <th>x262</th>\n",
              "      <th>x263</th>\n",
              "      <th>x269</th>\n",
              "      <th>x270</th>\n",
              "      <th>x271</th>\n",
              "      <th>x282</th>\n",
              "      <th>x283</th>\n",
              "      <th>x284</th>\n",
              "      <th>x298</th>\n",
              "      <th>x299</th>\n",
              "      <th>x300</th>\n",
              "      <th>x301</th>\n",
              "    </tr>\n",
              "  </thead>\n",
              "  <tbody>\n",
              "    <tr>\n",
              "      <th>0</th>\n",
              "      <td>1</td>\n",
              "      <td>0</td>\n",
              "      <td>0</td>\n",
              "      <td>1</td>\n",
              "      <td>0</td>\n",
              "      <td>0</td>\n",
              "      <td>0</td>\n",
              "      <td>0</td>\n",
              "      <td>0</td>\n",
              "      <td>0</td>\n",
              "      <td>0</td>\n",
              "      <td>0</td>\n",
              "      <td>0</td>\n",
              "      <td>0</td>\n",
              "      <td>0</td>\n",
              "      <td>0</td>\n",
              "      <td>0</td>\n",
              "      <td>0</td>\n",
              "      <td>0</td>\n",
              "      <td>0</td>\n",
              "      <td>0</td>\n",
              "      <td>0</td>\n",
              "      <td>0</td>\n",
              "      <td>0</td>\n",
              "      <td>0</td>\n",
              "      <td>0</td>\n",
              "      <td>0</td>\n",
              "      <td>1</td>\n",
              "      <td>1</td>\n",
              "      <td>1</td>\n",
              "      <td>0</td>\n",
              "      <td>0</td>\n",
              "      <td>0</td>\n",
              "      <td>0</td>\n",
              "      <td>0</td>\n",
              "      <td>0</td>\n",
              "      <td>0</td>\n",
              "      <td>0</td>\n",
              "      <td>0</td>\n",
              "      <td>0</td>\n",
              "      <td>1</td>\n",
              "      <td>1</td>\n",
              "      <td>1</td>\n",
              "      <td>0</td>\n",
              "      <td>0</td>\n",
              "      <td>0</td>\n",
              "      <td>0</td>\n",
              "    </tr>\n",
              "    <tr>\n",
              "      <th>1</th>\n",
              "      <td>0</td>\n",
              "      <td>0</td>\n",
              "      <td>1</td>\n",
              "      <td>0</td>\n",
              "      <td>0</td>\n",
              "      <td>0</td>\n",
              "      <td>0</td>\n",
              "      <td>0</td>\n",
              "      <td>0</td>\n",
              "      <td>0</td>\n",
              "      <td>0</td>\n",
              "      <td>0</td>\n",
              "      <td>0</td>\n",
              "      <td>0</td>\n",
              "      <td>0</td>\n",
              "      <td>0</td>\n",
              "      <td>0</td>\n",
              "      <td>0</td>\n",
              "      <td>0</td>\n",
              "      <td>0</td>\n",
              "      <td>0</td>\n",
              "      <td>0</td>\n",
              "      <td>0</td>\n",
              "      <td>0</td>\n",
              "      <td>0</td>\n",
              "      <td>0</td>\n",
              "      <td>0</td>\n",
              "      <td>0</td>\n",
              "      <td>0</td>\n",
              "      <td>0</td>\n",
              "      <td>0</td>\n",
              "      <td>0</td>\n",
              "      <td>0</td>\n",
              "      <td>0</td>\n",
              "      <td>0</td>\n",
              "      <td>0</td>\n",
              "      <td>1</td>\n",
              "      <td>1</td>\n",
              "      <td>1</td>\n",
              "      <td>1</td>\n",
              "      <td>1</td>\n",
              "      <td>1</td>\n",
              "      <td>1</td>\n",
              "      <td>1</td>\n",
              "      <td>1</td>\n",
              "      <td>1</td>\n",
              "      <td>0</td>\n",
              "    </tr>\n",
              "    <tr>\n",
              "      <th>2</th>\n",
              "      <td>1</td>\n",
              "      <td>0</td>\n",
              "      <td>0</td>\n",
              "      <td>1</td>\n",
              "      <td>0</td>\n",
              "      <td>0</td>\n",
              "      <td>0</td>\n",
              "      <td>1</td>\n",
              "      <td>0</td>\n",
              "      <td>0</td>\n",
              "      <td>0</td>\n",
              "      <td>0</td>\n",
              "      <td>0</td>\n",
              "      <td>0</td>\n",
              "      <td>0</td>\n",
              "      <td>0</td>\n",
              "      <td>0</td>\n",
              "      <td>0</td>\n",
              "      <td>0</td>\n",
              "      <td>0</td>\n",
              "      <td>0</td>\n",
              "      <td>0</td>\n",
              "      <td>0</td>\n",
              "      <td>0</td>\n",
              "      <td>0</td>\n",
              "      <td>0</td>\n",
              "      <td>0</td>\n",
              "      <td>1</td>\n",
              "      <td>1</td>\n",
              "      <td>1</td>\n",
              "      <td>0</td>\n",
              "      <td>0</td>\n",
              "      <td>0</td>\n",
              "      <td>0</td>\n",
              "      <td>0</td>\n",
              "      <td>0</td>\n",
              "      <td>0</td>\n",
              "      <td>0</td>\n",
              "      <td>0</td>\n",
              "      <td>0</td>\n",
              "      <td>1</td>\n",
              "      <td>1</td>\n",
              "      <td>1</td>\n",
              "      <td>0</td>\n",
              "      <td>0</td>\n",
              "      <td>0</td>\n",
              "      <td>0</td>\n",
              "    </tr>\n",
              "    <tr>\n",
              "      <th>3</th>\n",
              "      <td>0</td>\n",
              "      <td>0</td>\n",
              "      <td>0</td>\n",
              "      <td>1</td>\n",
              "      <td>0</td>\n",
              "      <td>0</td>\n",
              "      <td>0</td>\n",
              "      <td>0</td>\n",
              "      <td>0</td>\n",
              "      <td>0</td>\n",
              "      <td>0</td>\n",
              "      <td>0</td>\n",
              "      <td>0</td>\n",
              "      <td>0</td>\n",
              "      <td>0</td>\n",
              "      <td>0</td>\n",
              "      <td>1</td>\n",
              "      <td>1</td>\n",
              "      <td>0</td>\n",
              "      <td>0</td>\n",
              "      <td>0</td>\n",
              "      <td>0</td>\n",
              "      <td>1</td>\n",
              "      <td>0</td>\n",
              "      <td>0</td>\n",
              "      <td>0</td>\n",
              "      <td>1</td>\n",
              "      <td>1</td>\n",
              "      <td>1</td>\n",
              "      <td>1</td>\n",
              "      <td>0</td>\n",
              "      <td>1</td>\n",
              "      <td>0</td>\n",
              "      <td>1</td>\n",
              "      <td>1</td>\n",
              "      <td>1</td>\n",
              "      <td>0</td>\n",
              "      <td>0</td>\n",
              "      <td>0</td>\n",
              "      <td>0</td>\n",
              "      <td>1</td>\n",
              "      <td>1</td>\n",
              "      <td>1</td>\n",
              "      <td>1</td>\n",
              "      <td>1</td>\n",
              "      <td>1</td>\n",
              "      <td>0</td>\n",
              "    </tr>\n",
              "    <tr>\n",
              "      <th>4</th>\n",
              "      <td>1</td>\n",
              "      <td>0</td>\n",
              "      <td>0</td>\n",
              "      <td>1</td>\n",
              "      <td>0</td>\n",
              "      <td>0</td>\n",
              "      <td>0</td>\n",
              "      <td>0</td>\n",
              "      <td>0</td>\n",
              "      <td>0</td>\n",
              "      <td>0</td>\n",
              "      <td>0</td>\n",
              "      <td>0</td>\n",
              "      <td>0</td>\n",
              "      <td>0</td>\n",
              "      <td>0</td>\n",
              "      <td>0</td>\n",
              "      <td>0</td>\n",
              "      <td>0</td>\n",
              "      <td>0</td>\n",
              "      <td>0</td>\n",
              "      <td>0</td>\n",
              "      <td>0</td>\n",
              "      <td>0</td>\n",
              "      <td>0</td>\n",
              "      <td>0</td>\n",
              "      <td>1</td>\n",
              "      <td>1</td>\n",
              "      <td>1</td>\n",
              "      <td>1</td>\n",
              "      <td>0</td>\n",
              "      <td>0</td>\n",
              "      <td>0</td>\n",
              "      <td>0</td>\n",
              "      <td>0</td>\n",
              "      <td>0</td>\n",
              "      <td>0</td>\n",
              "      <td>0</td>\n",
              "      <td>0</td>\n",
              "      <td>0</td>\n",
              "      <td>1</td>\n",
              "      <td>1</td>\n",
              "      <td>1</td>\n",
              "      <td>0</td>\n",
              "      <td>0</td>\n",
              "      <td>0</td>\n",
              "      <td>0</td>\n",
              "    </tr>\n",
              "  </tbody>\n",
              "</table>\n",
              "</div>"
            ],
            "text/plain": [
              "   x006  x025  x026  x027  x060  x067  ...  x283  x284  x298  x299  x300  x301\n",
              "0     1     0     0     1     0     0  ...     1     1     0     0     0     0\n",
              "1     0     0     1     0     0     0  ...     1     1     1     1     1     0\n",
              "2     1     0     0     1     0     0  ...     1     1     0     0     0     0\n",
              "3     0     0     0     1     0     0  ...     1     1     1     1     1     0\n",
              "4     1     0     0     1     0     0  ...     1     1     0     0     0     0\n",
              "\n",
              "[5 rows x 47 columns]"
            ]
          },
          "metadata": {
            "tags": []
          },
          "execution_count": 54
        }
      ]
    },
    {
      "cell_type": "code",
      "metadata": {
        "id": "D-jk3VYIv3HM"
      },
      "source": [
        "k = {}\n",
        "for i in new_dataset_cat:\n",
        "    corr, _ = kendalltau(data[i], y)\n",
        "    k[i] = corr"
      ],
      "execution_count": 55,
      "outputs": []
    },
    {
      "cell_type": "code",
      "metadata": {
        "id": "CWMXo0XIv3HM"
      },
      "source": [
        "#sorted(k.items(), key=lambda x: x[1], reverse=True)\n",
        "feat = []\n",
        "s = 0\n",
        "for i in k:\n",
        "    if k[i]>0.35:\n",
        "        s+=1\n",
        "        feat.append(i)\n",
        "if s==0:\n",
        "    print(\"None\")"
      ],
      "execution_count": 56,
      "outputs": []
    },
    {
      "cell_type": "code",
      "metadata": {
        "colab": {
          "base_uri": "https://localhost:8080/",
          "height": 247
        },
        "id": "9T_ktqxwv3HN",
        "outputId": "04756b6e-14bd-4c31-d4d6-6f9b9e839369"
      },
      "source": [
        "data.head()"
      ],
      "execution_count": 57,
      "outputs": [
        {
          "output_type": "execute_result",
          "data": {
            "text/html": [
              "<div>\n",
              "<style scoped>\n",
              "    .dataframe tbody tr th:only-of-type {\n",
              "        vertical-align: middle;\n",
              "    }\n",
              "\n",
              "    .dataframe tbody tr th {\n",
              "        vertical-align: top;\n",
              "    }\n",
              "\n",
              "    .dataframe thead th {\n",
              "        text-align: right;\n",
              "    }\n",
              "</style>\n",
              "<table border=\"1\" class=\"dataframe\">\n",
              "  <thead>\n",
              "    <tr style=\"text-align: right;\">\n",
              "      <th></th>\n",
              "      <th>x001</th>\n",
              "      <th>x002</th>\n",
              "      <th>x003</th>\n",
              "      <th>x004</th>\n",
              "      <th>x005</th>\n",
              "      <th>x006</th>\n",
              "      <th>x007</th>\n",
              "      <th>x008</th>\n",
              "      <th>x009</th>\n",
              "      <th>x010</th>\n",
              "      <th>x011</th>\n",
              "      <th>x012</th>\n",
              "      <th>x013</th>\n",
              "      <th>x014</th>\n",
              "      <th>x015</th>\n",
              "      <th>x016</th>\n",
              "      <th>x017</th>\n",
              "      <th>x018</th>\n",
              "      <th>x019</th>\n",
              "      <th>x020</th>\n",
              "      <th>x021</th>\n",
              "      <th>x022</th>\n",
              "      <th>x023</th>\n",
              "      <th>x024</th>\n",
              "      <th>x025</th>\n",
              "      <th>x026</th>\n",
              "      <th>x027</th>\n",
              "      <th>x028</th>\n",
              "      <th>x029</th>\n",
              "      <th>x030</th>\n",
              "      <th>x031</th>\n",
              "      <th>x032</th>\n",
              "      <th>x033</th>\n",
              "      <th>x034</th>\n",
              "      <th>x035</th>\n",
              "      <th>x036</th>\n",
              "      <th>x037</th>\n",
              "      <th>x038</th>\n",
              "      <th>x039</th>\n",
              "      <th>x040</th>\n",
              "      <th>...</th>\n",
              "      <th>x263</th>\n",
              "      <th>x264</th>\n",
              "      <th>x265</th>\n",
              "      <th>x266</th>\n",
              "      <th>x267</th>\n",
              "      <th>x268</th>\n",
              "      <th>x269</th>\n",
              "      <th>x270</th>\n",
              "      <th>x271</th>\n",
              "      <th>x272</th>\n",
              "      <th>x273</th>\n",
              "      <th>x274</th>\n",
              "      <th>x275</th>\n",
              "      <th>x276</th>\n",
              "      <th>x277</th>\n",
              "      <th>x278</th>\n",
              "      <th>x279</th>\n",
              "      <th>x280</th>\n",
              "      <th>x281</th>\n",
              "      <th>x282</th>\n",
              "      <th>x283</th>\n",
              "      <th>x284</th>\n",
              "      <th>x285</th>\n",
              "      <th>x286</th>\n",
              "      <th>x287</th>\n",
              "      <th>x288</th>\n",
              "      <th>x289</th>\n",
              "      <th>x290</th>\n",
              "      <th>x291</th>\n",
              "      <th>x292</th>\n",
              "      <th>x293</th>\n",
              "      <th>x294</th>\n",
              "      <th>x296</th>\n",
              "      <th>x297</th>\n",
              "      <th>x298</th>\n",
              "      <th>x299</th>\n",
              "      <th>x300</th>\n",
              "      <th>x301</th>\n",
              "      <th>x302</th>\n",
              "      <th>x303</th>\n",
              "    </tr>\n",
              "  </thead>\n",
              "  <tbody>\n",
              "    <tr>\n",
              "      <th>0</th>\n",
              "      <td>1540332</td>\n",
              "      <td>125.0</td>\n",
              "      <td>25.0</td>\n",
              "      <td>65.0</td>\n",
              "      <td>8.0</td>\n",
              "      <td>1</td>\n",
              "      <td>0</td>\n",
              "      <td>1</td>\n",
              "      <td>0</td>\n",
              "      <td>0</td>\n",
              "      <td>0</td>\n",
              "      <td>0</td>\n",
              "      <td>0</td>\n",
              "      <td>0</td>\n",
              "      <td>1</td>\n",
              "      <td>0</td>\n",
              "      <td>1</td>\n",
              "      <td>1</td>\n",
              "      <td>0</td>\n",
              "      <td>1</td>\n",
              "      <td>0</td>\n",
              "      <td>1</td>\n",
              "      <td>0</td>\n",
              "      <td>0</td>\n",
              "      <td>0</td>\n",
              "      <td>0</td>\n",
              "      <td>1</td>\n",
              "      <td>0</td>\n",
              "      <td>0</td>\n",
              "      <td>1</td>\n",
              "      <td>2</td>\n",
              "      <td>0</td>\n",
              "      <td>0</td>\n",
              "      <td>0</td>\n",
              "      <td>1</td>\n",
              "      <td>1</td>\n",
              "      <td>0</td>\n",
              "      <td>0</td>\n",
              "      <td>0</td>\n",
              "      <td>1</td>\n",
              "      <td>...</td>\n",
              "      <td>0</td>\n",
              "      <td>0</td>\n",
              "      <td>26.0</td>\n",
              "      <td>21.0</td>\n",
              "      <td>23.0</td>\n",
              "      <td>0.0000</td>\n",
              "      <td>0</td>\n",
              "      <td>0</td>\n",
              "      <td>0</td>\n",
              "      <td>0.0000</td>\n",
              "      <td>0</td>\n",
              "      <td>0</td>\n",
              "      <td>0.0000</td>\n",
              "      <td>0</td>\n",
              "      <td>0</td>\n",
              "      <td>0</td>\n",
              "      <td>0</td>\n",
              "      <td>0</td>\n",
              "      <td>0</td>\n",
              "      <td>1</td>\n",
              "      <td>1</td>\n",
              "      <td>1</td>\n",
              "      <td>0</td>\n",
              "      <td>0</td>\n",
              "      <td>3.0</td>\n",
              "      <td>51.0</td>\n",
              "      <td>25.0</td>\n",
              "      <td>38.0</td>\n",
              "      <td>0</td>\n",
              "      <td>0</td>\n",
              "      <td>0.0000</td>\n",
              "      <td>0</td>\n",
              "      <td>0</td>\n",
              "      <td>0.0000</td>\n",
              "      <td>0</td>\n",
              "      <td>0</td>\n",
              "      <td>0</td>\n",
              "      <td>0</td>\n",
              "      <td>2.0</td>\n",
              "      <td>0</td>\n",
              "    </tr>\n",
              "    <tr>\n",
              "      <th>1</th>\n",
              "      <td>823066</td>\n",
              "      <td>4.0</td>\n",
              "      <td>3.0</td>\n",
              "      <td>3.0</td>\n",
              "      <td>4.0</td>\n",
              "      <td>0</td>\n",
              "      <td>2</td>\n",
              "      <td>2</td>\n",
              "      <td>0</td>\n",
              "      <td>0</td>\n",
              "      <td>0</td>\n",
              "      <td>0</td>\n",
              "      <td>0</td>\n",
              "      <td>0</td>\n",
              "      <td>2</td>\n",
              "      <td>2</td>\n",
              "      <td>0</td>\n",
              "      <td>2</td>\n",
              "      <td>2</td>\n",
              "      <td>0</td>\n",
              "      <td>0</td>\n",
              "      <td>0</td>\n",
              "      <td>0</td>\n",
              "      <td>2</td>\n",
              "      <td>0</td>\n",
              "      <td>1</td>\n",
              "      <td>0</td>\n",
              "      <td>0</td>\n",
              "      <td>1</td>\n",
              "      <td>0</td>\n",
              "      <td>14</td>\n",
              "      <td>7</td>\n",
              "      <td>8</td>\n",
              "      <td>10</td>\n",
              "      <td>11</td>\n",
              "      <td>8</td>\n",
              "      <td>1</td>\n",
              "      <td>2</td>\n",
              "      <td>4</td>\n",
              "      <td>5</td>\n",
              "      <td>...</td>\n",
              "      <td>1</td>\n",
              "      <td>4582</td>\n",
              "      <td>4.0</td>\n",
              "      <td>4.0</td>\n",
              "      <td>4.0</td>\n",
              "      <td>0.9256</td>\n",
              "      <td>1</td>\n",
              "      <td>1</td>\n",
              "      <td>1</td>\n",
              "      <td>0.9339</td>\n",
              "      <td>5206</td>\n",
              "      <td>0</td>\n",
              "      <td>0.0000</td>\n",
              "      <td>0</td>\n",
              "      <td>0</td>\n",
              "      <td>0</td>\n",
              "      <td>5206</td>\n",
              "      <td>0</td>\n",
              "      <td>5206</td>\n",
              "      <td>1</td>\n",
              "      <td>1</td>\n",
              "      <td>1</td>\n",
              "      <td>2</td>\n",
              "      <td>0</td>\n",
              "      <td>1.0</td>\n",
              "      <td>4.0</td>\n",
              "      <td>3.0</td>\n",
              "      <td>3.5</td>\n",
              "      <td>5206</td>\n",
              "      <td>5206</td>\n",
              "      <td>0.9339</td>\n",
              "      <td>0</td>\n",
              "      <td>5206</td>\n",
              "      <td>0.9339</td>\n",
              "      <td>1</td>\n",
              "      <td>1</td>\n",
              "      <td>1</td>\n",
              "      <td>0</td>\n",
              "      <td>2.0</td>\n",
              "      <td>0</td>\n",
              "    </tr>\n",
              "    <tr>\n",
              "      <th>2</th>\n",
              "      <td>1089795</td>\n",
              "      <td>125.0</td>\n",
              "      <td>25.0</td>\n",
              "      <td>65.0</td>\n",
              "      <td>96.0</td>\n",
              "      <td>1</td>\n",
              "      <td>0</td>\n",
              "      <td>0</td>\n",
              "      <td>0</td>\n",
              "      <td>1</td>\n",
              "      <td>3</td>\n",
              "      <td>4</td>\n",
              "      <td>1</td>\n",
              "      <td>0</td>\n",
              "      <td>9</td>\n",
              "      <td>0</td>\n",
              "      <td>9</td>\n",
              "      <td>2</td>\n",
              "      <td>0</td>\n",
              "      <td>9</td>\n",
              "      <td>0</td>\n",
              "      <td>2</td>\n",
              "      <td>0</td>\n",
              "      <td>0</td>\n",
              "      <td>0</td>\n",
              "      <td>0</td>\n",
              "      <td>1</td>\n",
              "      <td>0</td>\n",
              "      <td>0</td>\n",
              "      <td>3</td>\n",
              "      <td>4</td>\n",
              "      <td>0</td>\n",
              "      <td>0</td>\n",
              "      <td>0</td>\n",
              "      <td>0</td>\n",
              "      <td>1</td>\n",
              "      <td>0</td>\n",
              "      <td>0</td>\n",
              "      <td>0</td>\n",
              "      <td>0</td>\n",
              "      <td>...</td>\n",
              "      <td>0</td>\n",
              "      <td>0</td>\n",
              "      <td>26.0</td>\n",
              "      <td>21.0</td>\n",
              "      <td>23.0</td>\n",
              "      <td>0.0000</td>\n",
              "      <td>0</td>\n",
              "      <td>0</td>\n",
              "      <td>0</td>\n",
              "      <td>0.2281</td>\n",
              "      <td>1613</td>\n",
              "      <td>1613</td>\n",
              "      <td>0.4814</td>\n",
              "      <td>0</td>\n",
              "      <td>0</td>\n",
              "      <td>0</td>\n",
              "      <td>0</td>\n",
              "      <td>0</td>\n",
              "      <td>0</td>\n",
              "      <td>1</td>\n",
              "      <td>1</td>\n",
              "      <td>1</td>\n",
              "      <td>0</td>\n",
              "      <td>0</td>\n",
              "      <td>3.0</td>\n",
              "      <td>51.0</td>\n",
              "      <td>25.0</td>\n",
              "      <td>38.0</td>\n",
              "      <td>0</td>\n",
              "      <td>0</td>\n",
              "      <td>0.0000</td>\n",
              "      <td>0</td>\n",
              "      <td>0</td>\n",
              "      <td>0.0000</td>\n",
              "      <td>0</td>\n",
              "      <td>0</td>\n",
              "      <td>0</td>\n",
              "      <td>0</td>\n",
              "      <td>2.0</td>\n",
              "      <td>0</td>\n",
              "    </tr>\n",
              "    <tr>\n",
              "      <th>3</th>\n",
              "      <td>1147758</td>\n",
              "      <td>63.0</td>\n",
              "      <td>14.0</td>\n",
              "      <td>38.0</td>\n",
              "      <td>258.0</td>\n",
              "      <td>0</td>\n",
              "      <td>0</td>\n",
              "      <td>0</td>\n",
              "      <td>1</td>\n",
              "      <td>2</td>\n",
              "      <td>1</td>\n",
              "      <td>1</td>\n",
              "      <td>1</td>\n",
              "      <td>1</td>\n",
              "      <td>7</td>\n",
              "      <td>2</td>\n",
              "      <td>5</td>\n",
              "      <td>5</td>\n",
              "      <td>2</td>\n",
              "      <td>4</td>\n",
              "      <td>1</td>\n",
              "      <td>3</td>\n",
              "      <td>1</td>\n",
              "      <td>3</td>\n",
              "      <td>0</td>\n",
              "      <td>0</td>\n",
              "      <td>1</td>\n",
              "      <td>0</td>\n",
              "      <td>0</td>\n",
              "      <td>3</td>\n",
              "      <td>1</td>\n",
              "      <td>0</td>\n",
              "      <td>0</td>\n",
              "      <td>1</td>\n",
              "      <td>1</td>\n",
              "      <td>1</td>\n",
              "      <td>0</td>\n",
              "      <td>0</td>\n",
              "      <td>1</td>\n",
              "      <td>1</td>\n",
              "      <td>...</td>\n",
              "      <td>0</td>\n",
              "      <td>0</td>\n",
              "      <td>26.0</td>\n",
              "      <td>21.0</td>\n",
              "      <td>23.0</td>\n",
              "      <td>0.0000</td>\n",
              "      <td>0</td>\n",
              "      <td>0</td>\n",
              "      <td>0</td>\n",
              "      <td>0.8204</td>\n",
              "      <td>62558</td>\n",
              "      <td>4796</td>\n",
              "      <td>1.1153</td>\n",
              "      <td>1</td>\n",
              "      <td>2</td>\n",
              "      <td>2</td>\n",
              "      <td>58218</td>\n",
              "      <td>58218</td>\n",
              "      <td>0</td>\n",
              "      <td>1</td>\n",
              "      <td>1</td>\n",
              "      <td>1</td>\n",
              "      <td>1</td>\n",
              "      <td>0</td>\n",
              "      <td>2.0</td>\n",
              "      <td>63.0</td>\n",
              "      <td>63.0</td>\n",
              "      <td>63.0</td>\n",
              "      <td>57762</td>\n",
              "      <td>57762</td>\n",
              "      <td>0.8231</td>\n",
              "      <td>57762</td>\n",
              "      <td>0</td>\n",
              "      <td>0.0000</td>\n",
              "      <td>1</td>\n",
              "      <td>1</td>\n",
              "      <td>1</td>\n",
              "      <td>0</td>\n",
              "      <td>2.0</td>\n",
              "      <td>0</td>\n",
              "    </tr>\n",
              "    <tr>\n",
              "      <th>4</th>\n",
              "      <td>1229670</td>\n",
              "      <td>34.0</td>\n",
              "      <td>25.0</td>\n",
              "      <td>29.0</td>\n",
              "      <td>34.0</td>\n",
              "      <td>1</td>\n",
              "      <td>0</td>\n",
              "      <td>0</td>\n",
              "      <td>0</td>\n",
              "      <td>3</td>\n",
              "      <td>0</td>\n",
              "      <td>0</td>\n",
              "      <td>0</td>\n",
              "      <td>0</td>\n",
              "      <td>3</td>\n",
              "      <td>2</td>\n",
              "      <td>1</td>\n",
              "      <td>2</td>\n",
              "      <td>1</td>\n",
              "      <td>3</td>\n",
              "      <td>2</td>\n",
              "      <td>2</td>\n",
              "      <td>1</td>\n",
              "      <td>0</td>\n",
              "      <td>0</td>\n",
              "      <td>0</td>\n",
              "      <td>1</td>\n",
              "      <td>0</td>\n",
              "      <td>0</td>\n",
              "      <td>1</td>\n",
              "      <td>1</td>\n",
              "      <td>0</td>\n",
              "      <td>0</td>\n",
              "      <td>0</td>\n",
              "      <td>0</td>\n",
              "      <td>1</td>\n",
              "      <td>0</td>\n",
              "      <td>0</td>\n",
              "      <td>0</td>\n",
              "      <td>0</td>\n",
              "      <td>...</td>\n",
              "      <td>0</td>\n",
              "      <td>0</td>\n",
              "      <td>26.0</td>\n",
              "      <td>21.0</td>\n",
              "      <td>23.0</td>\n",
              "      <td>0.0000</td>\n",
              "      <td>0</td>\n",
              "      <td>0</td>\n",
              "      <td>0</td>\n",
              "      <td>0.1000</td>\n",
              "      <td>190</td>\n",
              "      <td>186</td>\n",
              "      <td>0.1430</td>\n",
              "      <td>1</td>\n",
              "      <td>1</td>\n",
              "      <td>1</td>\n",
              "      <td>190</td>\n",
              "      <td>190</td>\n",
              "      <td>0</td>\n",
              "      <td>1</td>\n",
              "      <td>1</td>\n",
              "      <td>1</td>\n",
              "      <td>0</td>\n",
              "      <td>0</td>\n",
              "      <td>3.0</td>\n",
              "      <td>51.0</td>\n",
              "      <td>25.0</td>\n",
              "      <td>38.0</td>\n",
              "      <td>0</td>\n",
              "      <td>0</td>\n",
              "      <td>0.0000</td>\n",
              "      <td>0</td>\n",
              "      <td>0</td>\n",
              "      <td>0.0000</td>\n",
              "      <td>0</td>\n",
              "      <td>0</td>\n",
              "      <td>0</td>\n",
              "      <td>0</td>\n",
              "      <td>2.0</td>\n",
              "      <td>0</td>\n",
              "    </tr>\n",
              "  </tbody>\n",
              "</table>\n",
              "<p>5 rows × 295 columns</p>\n",
              "</div>"
            ],
            "text/plain": [
              "      x001   x002  x003  x004   x005  x006  ...  x298  x299  x300  x301  x302  x303\n",
              "0  1540332  125.0  25.0  65.0    8.0     1  ...     0     0     0     0   2.0     0\n",
              "1   823066    4.0   3.0   3.0    4.0     0  ...     1     1     1     0   2.0     0\n",
              "2  1089795  125.0  25.0  65.0   96.0     1  ...     0     0     0     0   2.0     0\n",
              "3  1147758   63.0  14.0  38.0  258.0     0  ...     1     1     1     0   2.0     0\n",
              "4  1229670   34.0  25.0  29.0   34.0     1  ...     0     0     0     0   2.0     0\n",
              "\n",
              "[5 rows x 295 columns]"
            ]
          },
          "metadata": {
            "tags": []
          },
          "execution_count": 57
        }
      ]
    },
    {
      "cell_type": "code",
      "metadata": {
        "colab": {
          "base_uri": "https://localhost:8080/"
        },
        "id": "f461k42Iv3HN",
        "outputId": "b8890ea4-9a7c-403d-9f7d-af6a52eea110"
      },
      "source": [
        "new_dataset_cont.shape"
      ],
      "execution_count": 58,
      "outputs": [
        {
          "output_type": "execute_result",
          "data": {
            "text/plain": [
              "(100000, 248)"
            ]
          },
          "metadata": {
            "tags": []
          },
          "execution_count": 58
        }
      ]
    },
    {
      "cell_type": "code",
      "metadata": {
        "id": "R88Ykrw9R6Nb"
      },
      "source": [
        "#y['y']\n"
      ],
      "execution_count": 59,
      "outputs": []
    },
    {
      "cell_type": "code",
      "metadata": {
        "id": "a47-mvfJv3HO"
      },
      "source": [
        "k = {}\n",
        "for j,i in zip(data,new_dataset_cont):\n",
        "    corr, _ = stats.pearsonr(new_dataset_cont[i], y['y'])\n",
        "    k[i] = corr"
      ],
      "execution_count": 60,
      "outputs": []
    },
    {
      "cell_type": "code",
      "metadata": {
        "id": "uGqGUhq0v3HO"
      },
      "source": [
        "for i in k:\n",
        "    if k[i]>0.5:\n",
        "        feat.append(i)\n",
        "if s==0:\n",
        "    print(\"None\")"
      ],
      "execution_count": 61,
      "outputs": []
    },
    {
      "cell_type": "code",
      "metadata": {
        "id": "E2HTB7dCv3HP"
      },
      "source": [
        "new_dataset = data[feat]"
      ],
      "execution_count": 62,
      "outputs": []
    },
    {
      "cell_type": "code",
      "metadata": {
        "id": "x2cOsQg_v3HP"
      },
      "source": [
        "X_train, X_test, y_train, y_test = train_test_split(new_dataset, y, test_size=0.33, random_state=1)"
      ],
      "execution_count": 63,
      "outputs": []
    },
    {
      "cell_type": "code",
      "metadata": {
        "colab": {
          "base_uri": "https://localhost:8080/"
        },
        "id": "XivGu-Pvv3HQ",
        "outputId": "c98a07c4-37bb-4bd2-cfbb-56d1b6dce6a9"
      },
      "source": [
        "print(X_train.shape)\n",
        "print(X_test.shape)\n",
        "print(y_train.shape)\n",
        "print(y_test.shape)"
      ],
      "execution_count": 64,
      "outputs": [
        {
          "output_type": "stream",
          "text": [
            "(67000, 18)\n",
            "(33000, 18)\n",
            "(67000, 1)\n",
            "(33000, 1)\n"
          ],
          "name": "stdout"
        }
      ]
    },
    {
      "cell_type": "code",
      "metadata": {
        "colab": {
          "base_uri": "https://localhost:8080/"
        },
        "id": "dCHafyYnv3HR",
        "outputId": "a0d3883c-bc3b-4857-df95-26206ff621d7"
      },
      "source": [
        "model = LinearRegression()\n",
        "model.fit(X_train, y_train)\n",
        "# evaluate the model\n",
        "yhat = model.predict(X_test)\n",
        "# evaluate predictions\n",
        "mae = mean_absolute_error(y_test, yhat)\n",
        "print('MAE: %.3f' % mae)\n",
        "r2 = r2_score(y_test,yhat)\n",
        "print('R2: %.3f' %r2)"
      ],
      "execution_count": 65,
      "outputs": [
        {
          "output_type": "stream",
          "text": [
            "MAE: 60.263\n",
            "R2: 0.577\n"
          ],
          "name": "stdout"
        }
      ]
    },
    {
      "cell_type": "markdown",
      "metadata": {
        "id": "5prmtUdhv3HS"
      },
      "source": [
        "<hr>"
      ]
    },
    {
      "cell_type": "markdown",
      "metadata": {
        "id": "OEID7wIdy70E"
      },
      "source": [
        "## 4"
      ]
    },
    {
      "cell_type": "code",
      "metadata": {
        "id": "_n-DWLJ1v3HS"
      },
      "source": [
        "X_train, X_test, y_train, y_test = train_test_split(data, y, test_size=0.33, random_state=1)"
      ],
      "execution_count": 66,
      "outputs": []
    },
    {
      "cell_type": "code",
      "metadata": {
        "colab": {
          "base_uri": "https://localhost:8080/"
        },
        "id": "suKiSHdfv3HT",
        "outputId": "8eed466c-3e21-409d-c09c-a8dd541e2b3a"
      },
      "source": [
        "from sklearn.decomposition import PCA\n",
        "  \n",
        "pca = PCA()\n",
        "  \n",
        "X_train = pca.fit_transform(X_train)\n",
        "X_test = pca.transform(X_test)\n",
        "  \n",
        "explained_variance = pca.explained_variance_ratio_\n",
        "\n",
        "model = LinearRegression()\n",
        "model.fit(X_train, y_train)\n",
        "\n",
        "y_hat = model.predict(X_test)\n",
        "\n",
        "mae = mean_absolute_error(y_test, yhat)\n",
        "print('MAE: %.3f' % mae)\n",
        "r2 = r2_score(y_test,yhat)\n",
        "print('R2: %.2f' %r2_score(y_test,yhat))"
      ],
      "execution_count": 67,
      "outputs": [
        {
          "output_type": "stream",
          "text": [
            "MAE: 60.263\n",
            "R2: 0.58\n"
          ],
          "name": "stdout"
        }
      ]
    },
    {
      "cell_type": "markdown",
      "metadata": {
        "id": "5DLqF6Shv3HT"
      },
      "source": [
        "<hr>"
      ]
    },
    {
      "cell_type": "markdown",
      "metadata": {
        "id": "aFzCdePBy_Vy"
      },
      "source": [
        "# Robust Scaling (Linear Regression)"
      ]
    },
    {
      "cell_type": "markdown",
      "metadata": {
        "id": "0OAhPcbxv3HU"
      },
      "source": [
        "Scaling"
      ]
    },
    {
      "cell_type": "code",
      "metadata": {
        "id": "Mlcj33qVv3HU"
      },
      "source": [
        "scaler = RobustScaler()"
      ],
      "execution_count": 68,
      "outputs": []
    },
    {
      "cell_type": "code",
      "metadata": {
        "id": "rAyZMlvGv3HV"
      },
      "source": [
        "data_s = scaler.fit_transform(data)\n",
        "y_s = scaler.fit_transform(y)"
      ],
      "execution_count": 69,
      "outputs": []
    },
    {
      "cell_type": "code",
      "metadata": {
        "colab": {
          "base_uri": "https://localhost:8080/"
        },
        "id": "dQ4wtjFdVxcu",
        "outputId": "e0762ac9-6154-41f8-fd6b-9a88d7d14ddc"
      },
      "source": [
        "print(data_s.shape)\n",
        "print(y_s.shape)"
      ],
      "execution_count": 70,
      "outputs": [
        {
          "output_type": "stream",
          "text": [
            "(100000, 295)\n",
            "(100000, 1)\n"
          ],
          "name": "stdout"
        }
      ]
    },
    {
      "cell_type": "code",
      "metadata": {
        "id": "u3u_lZj27buI"
      },
      "source": [
        "data_s = pd.DataFrame(data_s)\n",
        "y_s = pd.DataFrame(y_s)"
      ],
      "execution_count": 71,
      "outputs": []
    },
    {
      "cell_type": "markdown",
      "metadata": {
        "id": "qc_U1aSHv3HV"
      },
      "source": [
        "<hr>"
      ]
    },
    {
      "cell_type": "markdown",
      "metadata": {
        "id": "54GfM26bzEqM"
      },
      "source": [
        "## 5"
      ]
    },
    {
      "cell_type": "code",
      "metadata": {
        "id": "cssjJQJOv3HV"
      },
      "source": [
        "X_train, X_test, y_train, y_test = train_test_split(data_s, y_s, test_size=0.33, random_state=42)"
      ],
      "execution_count": 72,
      "outputs": []
    },
    {
      "cell_type": "code",
      "metadata": {
        "colab": {
          "base_uri": "https://localhost:8080/"
        },
        "id": "2r8HPsRRv3HW",
        "outputId": "f0d726f5-d44c-42ee-8cf6-4e60577222f1"
      },
      "source": [
        "pca = PCA()\n",
        "  \n",
        "X_train = pca.fit_transform(X_train)\n",
        "X_test = pca.transform(X_test)\n",
        "  \n",
        "explained_variance = pca.explained_variance_ratio_\n",
        "\n",
        "model = LinearRegression()\n",
        "model.fit(X_train, y_train)\n",
        "\n",
        "y_hat = model.predict(X_test)\n",
        "\n",
        "mae = mean_absolute_error(y_test, yhat)\n",
        "print('MAE: %.3f' % mae)\n",
        "r2 = r2_score(y_test,yhat)\n",
        "print('R2: %.2f' %r2_score(y_test,yhat))"
      ],
      "execution_count": 73,
      "outputs": [
        {
          "output_type": "stream",
          "text": [
            "MAE: 618.893\n",
            "R2: -1067880.22\n"
          ],
          "name": "stdout"
        }
      ]
    },
    {
      "cell_type": "markdown",
      "metadata": {
        "id": "S2JG7EJ2v3HW"
      },
      "source": [
        "<hr>"
      ]
    },
    {
      "cell_type": "markdown",
      "metadata": {
        "id": "Z2v4yUOmzGm7"
      },
      "source": [
        "## 6"
      ]
    },
    {
      "cell_type": "code",
      "metadata": {
        "id": "aHkj-27nv3HX"
      },
      "source": [
        "X_train, X_test, y_train, y_test = train_test_split(data_s, y_s, test_size=0.33, random_state=1)"
      ],
      "execution_count": 74,
      "outputs": []
    },
    {
      "cell_type": "code",
      "metadata": {
        "colab": {
          "base_uri": "https://localhost:8080/"
        },
        "id": "5pyv1F5Uv3HX",
        "outputId": "17de6d40-1210-47e8-d2bd-3b68178588c8"
      },
      "source": [
        "model = LinearRegression()\n",
        "model.fit(X_train, y_train)\n",
        "# evaluate the model\n",
        "yhat = model.predict(X_test)\n",
        "# evaluate predictions\n",
        "mae = mean_absolute_error(y_test, yhat)\n",
        "print('MAE: %.3f' % mae)\n",
        "print('R2: %.2f' %r2_score(y_test,yhat))"
      ],
      "execution_count": 75,
      "outputs": [
        {
          "output_type": "stream",
          "text": [
            "MAE: 0.180\n",
            "R2: 0.85\n"
          ],
          "name": "stdout"
        }
      ]
    },
    {
      "cell_type": "markdown",
      "metadata": {
        "id": "-1baDmORv3HX"
      },
      "source": [
        "<hr>"
      ]
    },
    {
      "cell_type": "markdown",
      "metadata": {
        "id": "4eaJ38kXzJKP"
      },
      "source": [
        "## 7"
      ]
    },
    {
      "cell_type": "code",
      "metadata": {
        "id": "k0ZXkHem4CXb"
      },
      "source": [
        "data_z = pd.DataFrame(data_s)\n",
        "y_z = pd.DataFrame(y_s)"
      ],
      "execution_count": 76,
      "outputs": []
    },
    {
      "cell_type": "code",
      "metadata": {
        "id": "lDUieYjMv3HX"
      },
      "source": [
        "X_train, X_test, y_train, y_test = train_test_split(data_s, y_s, test_size=0.33, random_state=1)"
      ],
      "execution_count": 77,
      "outputs": []
    },
    {
      "cell_type": "code",
      "metadata": {
        "colab": {
          "base_uri": "https://localhost:8080/"
        },
        "id": "0LcMLU_x37mw",
        "outputId": "aa6fc0d1-7f16-44de-9430-16b9e6c6b06c"
      },
      "source": [
        "print(X_train.shape)\n",
        "print(X_test.shape)\n",
        "print(y_train.shape)\n",
        "print(y_test.shape)"
      ],
      "execution_count": 78,
      "outputs": [
        {
          "output_type": "stream",
          "text": [
            "(67000, 295)\n",
            "(33000, 295)\n",
            "(67000, 1)\n",
            "(33000, 1)\n"
          ],
          "name": "stdout"
        }
      ]
    },
    {
      "cell_type": "code",
      "metadata": {
        "id": "wl57xCbO3tsv"
      },
      "source": [
        "x_temp = sm.add_constant(X_train)\n",
        "\n",
        "vif = pd.DataFrame()\n",
        "vif[\"VIF Factor\"] = [variance_inflation_factor(x_temp.values, i) for i in range(data.shape[1])]\n",
        "vif[\"features\"] = data.columns\n",
        "#print(vif.round(1))"
      ],
      "execution_count": 79,
      "outputs": []
    },
    {
      "cell_type": "code",
      "metadata": {
        "colab": {
          "base_uri": "https://localhost:8080/"
        },
        "id": "5FrJZBBY8utK",
        "outputId": "4ca74a2b-e367-4e03-9f89-752d93ae7a17"
      },
      "source": [
        "print(\"vif: \", vif.shape)\n",
        "print(\"main: \", data_s.shape)"
      ],
      "execution_count": 80,
      "outputs": [
        {
          "output_type": "stream",
          "text": [
            "vif:  (295, 2)\n",
            "main:  (100000, 295)\n"
          ],
          "name": "stdout"
        }
      ]
    },
    {
      "cell_type": "code",
      "metadata": {
        "id": "Iif5waXd_wql"
      },
      "source": [
        "k = []\n",
        "t=0\n",
        "for i,j in zip(data_s.index,vif.index):\n",
        "    if vif['VIF Factor'][j] < 5:\n",
        "        k.append(vif['features'][j])\n",
        "        #print(j)"
      ],
      "execution_count": 81,
      "outputs": []
    },
    {
      "cell_type": "code",
      "metadata": {
        "id": "xFSZgcT_AIN-"
      },
      "source": [
        "#new_dataset = data_s[k]\n",
        "#data_s\n",
        "#data.columns\n",
        "#data_s.rename(columns = data.columns)\n",
        "data_s = data_s[1:]\n",
        "header = data.iloc[0]\n",
        "data_s = data_s.rename(columns = header)"
      ],
      "execution_count": 82,
      "outputs": []
    },
    {
      "cell_type": "code",
      "metadata": {
        "id": "ceZFsRqhDeTC"
      },
      "source": [
        "col = list(data.columns)"
      ],
      "execution_count": 83,
      "outputs": []
    },
    {
      "cell_type": "code",
      "metadata": {
        "id": "yMyJIxBFDFaR"
      },
      "source": [
        "data_s.columns = col"
      ],
      "execution_count": 84,
      "outputs": []
    },
    {
      "cell_type": "code",
      "metadata": {
        "id": "zqV9-FU0GYuC"
      },
      "source": [
        "new_dataset = data_s[k]"
      ],
      "execution_count": 85,
      "outputs": []
    },
    {
      "cell_type": "code",
      "metadata": {
        "colab": {
          "base_uri": "https://localhost:8080/"
        },
        "id": "edOX115xJQgK",
        "outputId": "4f25e70b-e229-4745-ce75-bcd6f956b253"
      },
      "source": [
        "new_dataset.shape"
      ],
      "execution_count": 86,
      "outputs": [
        {
          "output_type": "execute_result",
          "data": {
            "text/plain": [
              "(99999, 58)"
            ]
          },
          "metadata": {
            "tags": []
          },
          "execution_count": 86
        }
      ]
    },
    {
      "cell_type": "code",
      "metadata": {
        "id": "TlJ5ODfDSQtB"
      },
      "source": [
        "#new_dataset = new_dataset.drop(new_dataset.index[[0]])\n",
        "y_s = y_s.drop(y_s.index[[0]])\n",
        "y_s = y_s.drop(y_s.index[[0]])"
      ],
      "execution_count": 90,
      "outputs": []
    },
    {
      "cell_type": "code",
      "metadata": {
        "colab": {
          "base_uri": "https://localhost:8080/"
        },
        "id": "QhxMyrsYSHUp",
        "outputId": "70b7c92a-583b-44a4-cc4a-3a6c46a0442a"
      },
      "source": [
        "y_s.shape"
      ],
      "execution_count": 91,
      "outputs": [
        {
          "output_type": "execute_result",
          "data": {
            "text/plain": [
              "(99998, 1)"
            ]
          },
          "metadata": {
            "tags": []
          },
          "execution_count": 91
        }
      ]
    },
    {
      "cell_type": "code",
      "metadata": {
        "id": "pxRkBSfvJ2p1"
      },
      "source": [
        "X_train, X_test, y_train, y_test = train_test_split(new_dataset, y_s, test_size=0.33, random_state=1)"
      ],
      "execution_count": 92,
      "outputs": []
    },
    {
      "cell_type": "code",
      "metadata": {
        "colab": {
          "base_uri": "https://localhost:8080/"
        },
        "id": "rdJbgRYkSi6w",
        "outputId": "d554697c-b0d7-4ea7-86d5-85531749bbcf"
      },
      "source": [
        "model = LinearRegression()\n",
        "model.fit(X_train, y_train)\n",
        "# evaluate the model\n",
        "yhat = model.predict(X_test)\n",
        "# evaluate predictions\n",
        "mae = mean_absolute_error(y_test, yhat)\n",
        "print('MAE: %.3f' % mae)\n",
        "print('R2: %.2f' %r2_score(y_test,yhat))"
      ],
      "execution_count": 93,
      "outputs": [
        {
          "output_type": "stream",
          "text": [
            "MAE: 0.252\n",
            "R2: 0.71\n"
          ],
          "name": "stdout"
        }
      ]
    },
    {
      "cell_type": "markdown",
      "metadata": {
        "id": "qbMmz0NZTESl"
      },
      "source": [
        "<hr>"
      ]
    },
    {
      "cell_type": "markdown",
      "metadata": {
        "id": "-BdY8ss5zN3I"
      },
      "source": [
        "# Standard Scaling (Linear Regression)\n"
      ]
    },
    {
      "cell_type": "code",
      "metadata": {
        "colab": {
          "base_uri": "https://localhost:8080/"
        },
        "id": "TvE-ojdFTCzC",
        "outputId": "6bfdfb8a-ab05-4c22-ce27-c92a7613f37b"
      },
      "source": [
        "scaler = StandardScaler()\n",
        "\n",
        "data_s = scaler.fit_transform(data)\n",
        "y_s = scaler.fit_transform(y)\n",
        "\n",
        "data_s = pd.DataFrame(data_s)\n",
        "y_s = pd.DataFrame(y_s)\n",
        "\n",
        "col = list(data.columns)\n",
        "data_s.columns = col\n",
        "\n",
        "print(data_s.shape)\n",
        "print(y_s.shape)\n"
      ],
      "execution_count": 94,
      "outputs": [
        {
          "output_type": "stream",
          "text": [
            "(100000, 295)\n",
            "(100000, 1)\n"
          ],
          "name": "stdout"
        }
      ]
    },
    {
      "cell_type": "markdown",
      "metadata": {
        "id": "GFh5cAtlUKyM"
      },
      "source": [
        "<hr>"
      ]
    },
    {
      "cell_type": "markdown",
      "metadata": {
        "id": "NlRfkvF4zSzb"
      },
      "source": [
        "## 8"
      ]
    },
    {
      "cell_type": "code",
      "metadata": {
        "colab": {
          "base_uri": "https://localhost:8080/"
        },
        "id": "S-EqtG04UNOw",
        "outputId": "cc08c388-7590-4e76-9fad-3e5b7ecbbc73"
      },
      "source": [
        "X_train, X_test, y_train, y_test = train_test_split(data_s, y_s, test_size=0.33, random_state=1)\n",
        "model = LinearRegression()\n",
        "model.fit(X_train, y_train)\n",
        "# evaluate the model\n",
        "yhat = model.predict(X_test)\n",
        "# evaluate predictions\n",
        "mae = mean_absolute_error(y_test, yhat)\n",
        "print('MAE: %.3f' % mae)\n",
        "print('R2: %.2f' %r2_score(y_test,yhat))"
      ],
      "execution_count": 95,
      "outputs": [
        {
          "output_type": "stream",
          "text": [
            "MAE: 0.297\n",
            "R2: 0.85\n"
          ],
          "name": "stdout"
        }
      ]
    },
    {
      "cell_type": "markdown",
      "metadata": {
        "id": "QhUtmtircddD"
      },
      "source": [
        "<hr>"
      ]
    },
    {
      "cell_type": "markdown",
      "metadata": {
        "id": "DM2olAqNzVxr"
      },
      "source": [
        "## 9"
      ]
    },
    {
      "cell_type": "code",
      "metadata": {
        "id": "tS0MfEAXcZ1K"
      },
      "source": [
        "X_train, X_test, y_train, y_test = train_test_split(data_s, y_s, test_size=0.33, random_state=1)"
      ],
      "execution_count": 96,
      "outputs": []
    },
    {
      "cell_type": "code",
      "metadata": {
        "id": "NGeHQ4g7VG0f",
        "colab": {
          "base_uri": "https://localhost:8080/"
        },
        "outputId": "a245b7e6-cadb-4efa-c514-d9ab4946fe57"
      },
      "source": [
        "pca = PCA(n_components=70)\n",
        "  \n",
        "X_train = pca.fit_transform(X_train)\n",
        "X_test = pca.transform(X_test)\n",
        "  \n",
        "explained_variance = pca.explained_variance_ratio_\n",
        "\n",
        "model = LinearRegression()\n",
        "model.fit(X_train, y_train)\n",
        "\n",
        "y_hat = model.predict(X_test)\n",
        "\n",
        "mae = mean_absolute_error(y_test, yhat)\n",
        "print('MAE: %.3f' % mae)\n",
        "r2 = r2_score(y_test,yhat)\n",
        "print('R2: %.2f' %r2_score(y_test,yhat))"
      ],
      "execution_count": 97,
      "outputs": [
        {
          "output_type": "stream",
          "text": [
            "MAE: 0.297\n",
            "R2: 0.85\n"
          ],
          "name": "stdout"
        }
      ]
    },
    {
      "cell_type": "markdown",
      "metadata": {
        "id": "1G3qM7pCcu6b"
      },
      "source": [
        "<hr>"
      ]
    },
    {
      "cell_type": "markdown",
      "metadata": {
        "id": "NGs_rU-vzYoN"
      },
      "source": [
        "## 10"
      ]
    },
    {
      "cell_type": "code",
      "metadata": {
        "id": "fqvSoU-3d6wo"
      },
      "source": [
        "new_dataset_cat = data_s[cat_features]\n",
        "new_dataset_cont = data_s[cont_features]\n",
        "\n",
        "k = {}\n",
        "for i in new_dataset_cat:\n",
        "    corr, _ = kendalltau(data[i], y_s)\n",
        "    k[i] = corr\n",
        "\n",
        "#sorted(k.items(), key=lambda x: x[1], reverse=True)\n",
        "feat = []\n",
        "s = 0\n",
        "for i in k:\n",
        "    if k[i]>0.35:\n",
        "        s+=1\n",
        "        feat.append(i)\n",
        "if s==0:\n",
        "    print(\"None\")\n",
        "\n",
        "k = {}\n",
        "for j,i in zip(data,new_dataset_cont):\n",
        "    corr, _ = stats.pearsonr(new_dataset_cont[i], y_s[0])\n",
        "    k[i] = corr\n",
        "\n",
        "for i in k:\n",
        "    if k[i]>0.5:\n",
        "        feat.append(i)\n",
        "if s==0:\n",
        "    print(\"None\")\n",
        "\n",
        "new_dataset = data_s[feat]"
      ],
      "execution_count": 98,
      "outputs": []
    },
    {
      "cell_type": "code",
      "metadata": {
        "colab": {
          "base_uri": "https://localhost:8080/"
        },
        "id": "vnfqeL5teTY5",
        "outputId": "77d6f35f-cd7e-4936-ecce-744404e355c6"
      },
      "source": [
        "X_train, X_test, y_train, y_test = train_test_split(new_dataset, y, test_size=0.33, random_state=1)\n",
        "\n",
        "model = LinearRegression()\n",
        "model.fit(X_train, y_train)\n",
        "\n",
        "y_hat = model.predict(X_test)\n",
        "\n",
        "mae = mean_absolute_error(y_test, yhat)\n",
        "print('MAE: %.3f' % mae)\n",
        "r2 = r2_score(y_test,yhat)\n",
        "print('R2: %.2f' %r2_score(y_test,yhat))"
      ],
      "execution_count": 99,
      "outputs": [
        {
          "output_type": "stream",
          "text": [
            "MAE: 618.599\n",
            "R2: -27.10\n"
          ],
          "name": "stdout"
        }
      ]
    },
    {
      "cell_type": "markdown",
      "metadata": {
        "id": "mjRK7FgZv3Ha"
      },
      "source": [
        "[VIF](https://www.datasklr.com/ols-least-squares-regression/multicollinearity)\n",
        "\n",
        "[K Best](https://machinelearningmastery.com/feature-selection-for-regression-data/)\n",
        "\n",
        "[SE/Metrics](https://www.listendata.com/2018/01/linear-regression-in-python.html)"
      ]
    },
    {
      "cell_type": "markdown",
      "metadata": {
        "id": "0oZBq9gL4PCK"
      },
      "source": [
        "# Standard Scaling (XGBoost)"
      ]
    },
    {
      "cell_type": "markdown",
      "metadata": {
        "id": "J2ChccpK5ya0"
      },
      "source": [
        "## 11"
      ]
    },
    {
      "cell_type": "code",
      "metadata": {
        "colab": {
          "base_uri": "https://localhost:8080/"
        },
        "id": "IETzIbW_4eEn",
        "outputId": "495862b2-5597-4c6d-fdb4-def5abe28ec1"
      },
      "source": [
        "X_train, X_test, y_train, y_test = train_test_split(data_s, y_s, test_size=0.33, random_state=1)\n",
        "\n",
        "#instantiation\n",
        "xgb_r = xg.XGBRegressor(objective ='reg:squarederror',\n",
        "                        n_estimators = 10, seed = 123)\n",
        "\n",
        "# Fitting the model\n",
        "xgb_r.fit(X_train, y_train)\n",
        "  \n",
        "# Predict the model\n",
        "yhat = xgb_r.predict(X_test)\n",
        "  \n",
        "# RMSE Computation\n",
        "#rmse = np.sqrt(MSE(test_y, pred))\n",
        "#print(\"RMSE : % f\" %(rmse))\n",
        "\n",
        "mae = mean_absolute_error(y_test, yhat)\n",
        "print('MAE: %.3f' % mae)\n",
        "print('R2: %.2f' %r2_score(y_test,yhat))"
      ],
      "execution_count": 100,
      "outputs": [
        {
          "output_type": "stream",
          "text": [
            "MAE: 0.479\n",
            "R2: 0.67\n"
          ],
          "name": "stdout"
        }
      ]
    },
    {
      "cell_type": "markdown",
      "metadata": {
        "id": "ihfCn99D5sxw"
      },
      "source": [
        "<hr>"
      ]
    },
    {
      "cell_type": "markdown",
      "metadata": {
        "id": "WiCA72dW51J5"
      },
      "source": [
        "## 12"
      ]
    },
    {
      "cell_type": "code",
      "metadata": {
        "colab": {
          "base_uri": "https://localhost:8080/"
        },
        "id": "0f4h3A3E5sYY",
        "outputId": "50575196-28a6-40e0-c856-cb9d350a543b"
      },
      "source": [
        "X_train, X_test, y_train, y_test = train_test_split(data_s, y_s, test_size=0.33, random_state=1)\n",
        "\n",
        "pca = PCA(n_components=70)\n",
        "  \n",
        "X_train = pca.fit_transform(X_train)\n",
        "X_test = pca.transform(X_test)\n",
        "  \n",
        "explained_variance = pca.explained_variance_ratio_\n",
        "\n",
        "#instantiation\n",
        "xgb_r = xg.XGBRegressor(objective ='reg:squarederror',\n",
        "                        n_estimators = 10, seed = 123)\n",
        "\n",
        "# Fitting the model\n",
        "xgb_r.fit(X_train, y_train)\n",
        "  \n",
        "# Predict the model\n",
        "yhat = xgb_r.predict(X_test)\n",
        "  \n",
        "# RMSE Computation\n",
        "#rmse = np.sqrt(MSE(test_y, pred))\n",
        "#print(\"RMSE : % f\" %(rmse))\n",
        "\n",
        "mae = mean_absolute_error(y_test, yhat)\n",
        "print('MAE: %.3f' % mae)\n",
        "print('R2: %.2f' %r2_score(y_test,yhat))"
      ],
      "execution_count": 101,
      "outputs": [
        {
          "output_type": "stream",
          "text": [
            "MAE: 0.509\n",
            "R2: 0.63\n"
          ],
          "name": "stdout"
        }
      ]
    },
    {
      "cell_type": "markdown",
      "metadata": {
        "id": "7_JZOwjl6cW7"
      },
      "source": [
        "<hr>"
      ]
    },
    {
      "cell_type": "markdown",
      "metadata": {
        "id": "sAyFilML6eh-"
      },
      "source": [
        "## 13"
      ]
    },
    {
      "cell_type": "code",
      "metadata": {
        "colab": {
          "base_uri": "https://localhost:8080/"
        },
        "id": "Z9fOS9Ia6ig7",
        "outputId": "460984ac-258b-48c5-c269-86ddf2bb79ca"
      },
      "source": [
        "new_dataset_cat = data_s[cat_features]\n",
        "new_dataset_cont = data_s[cont_features]\n",
        "\n",
        "k = {}\n",
        "for i in new_dataset_cat:\n",
        "    corr, _ = kendalltau(data_s[i], y_s)\n",
        "    k[i] = corr\n",
        "\n",
        "#sorted(k.items(), key=lambda x: x[1], reverse=True)\n",
        "feat = []\n",
        "s = 0\n",
        "for i in k:\n",
        "    if k[i]>0.35:\n",
        "        s+=1\n",
        "        feat.append(i)\n",
        "if s==0:\n",
        "    print(\"None\")\n",
        "\n",
        "k = {}\n",
        "for j,i in zip(data_s,new_dataset_cont):\n",
        "    corr, _ = stats.pearsonr(new_dataset_cont[i], y_s[0])\n",
        "    k[i] = corr\n",
        "\n",
        "for i in k:\n",
        "    if k[i]>0.5:\n",
        "        feat.append(i)\n",
        "if s==0:\n",
        "    print(\"None\")\n",
        "\n",
        "new_dataset = data_s[feat]\n",
        "\n",
        "X_train, X_test, y_train, y_test = train_test_split(new_dataset, y_s, test_size=0.33, random_state=1)\n",
        "\n",
        "#instantiation\n",
        "xgb_r = xg.XGBRegressor(objective ='reg:squarederror',\n",
        "                        n_estimators = 10, seed = 123)\n",
        "\n",
        "# Fitting the model\n",
        "xgb_r.fit(X_train, y_train)\n",
        "  \n",
        "# Predict the model\n",
        "yhat = xgb_r.predict(X_test)\n",
        "  \n",
        "# RMSE Computation\n",
        "#rmse = np.sqrt(MSE(test_y, pred))\n",
        "#print(\"RMSE : % f\" %(rmse))\n",
        "\n",
        "mae = mean_absolute_error(y_test, yhat)\n",
        "print('MAE: %.3f' % mae)\n",
        "print('R2: %.2f' %r2_score(y_test,yhat))"
      ],
      "execution_count": 102,
      "outputs": [
        {
          "output_type": "stream",
          "text": [
            "MAE: 0.565\n",
            "R2: 0.54\n"
          ],
          "name": "stdout"
        }
      ]
    },
    {
      "cell_type": "markdown",
      "metadata": {
        "id": "-TVBR19v7Xzw"
      },
      "source": [
        "<hr>"
      ]
    },
    {
      "cell_type": "markdown",
      "metadata": {
        "id": "kUrY3Adh-JBp"
      },
      "source": [
        "# Standard Scaling (NESTED) "
      ]
    },
    {
      "cell_type": "markdown",
      "metadata": {
        "id": "K0WyFXEpI6NK"
      },
      "source": [
        "## 14 - Correlation + PCA"
      ]
    },
    {
      "cell_type": "code",
      "metadata": {
        "id": "8279i6ZmFiJH"
      },
      "source": [
        "new_dataset_cat = data_s[cat_features]\n",
        "new_dataset_cont = data_s[cont_features]\n",
        "\n",
        "k = {}\n",
        "for i in new_dataset_cat:\n",
        "    corr, _ = kendalltau(data[i], y_s)\n",
        "    k[i] = corr\n",
        "\n",
        "#sorted(k.items(), key=lambda x: x[1], reverse=True)\n",
        "feat = []\n",
        "s = 0\n",
        "for i in k:\n",
        "    if k[i]>0.35:\n",
        "        s+=1\n",
        "        feat.append(i)\n",
        "if s==0:\n",
        "    print(\"None\")\n",
        "\n",
        "k = {}\n",
        "for j,i in zip(data,new_dataset_cont):\n",
        "    corr, _ = stats.pearsonr(new_dataset_cont[i], y_s[0])\n",
        "    k[i] = corr\n",
        "\n",
        "for i in k:\n",
        "    if k[i]>0.5:\n",
        "        feat.append(i)\n",
        "if s==0:\n",
        "    print(\"None\")\n",
        "\n",
        "new_dataset = data_s[feat]"
      ],
      "execution_count": 111,
      "outputs": []
    },
    {
      "cell_type": "code",
      "metadata": {
        "colab": {
          "base_uri": "https://localhost:8080/",
          "height": 297
        },
        "id": "-k8vgNi4GfkP",
        "outputId": "4cb17e23-7384-4a31-d1b5-cdaedd625e55"
      },
      "source": [
        "pca = PCA()\n",
        "df = pca.fit_transform(new_dataset)\n",
        "explained_variance = pca.explained_variance_ratio_\n",
        "plt.plot(np.cumsum(pca.explained_variance_ratio_))\n",
        "plt.xlabel('number of components')\n",
        "plt.ylabel('cumulative explained variance')"
      ],
      "execution_count": 120,
      "outputs": [
        {
          "output_type": "execute_result",
          "data": {
            "text/plain": [
              "Text(0, 0.5, 'cumulative explained variance')"
            ]
          },
          "metadata": {
            "tags": []
          },
          "execution_count": 120
        },
        {
          "output_type": "display_data",
          "data": {
            "image/png": "[encoded data removed]",
            "text/plain": [
              "<Figure size 432x288 with 1 Axes>"
            ]
          },
          "metadata": {
            "tags": [],
            "needs_background": "light"
          }
        }
      ]
    },
    {
      "cell_type": "code",
      "metadata": {
        "colab": {
          "base_uri": "https://localhost:8080/"
        },
        "id": "DBQPV9KFFha_",
        "outputId": "b74e12bf-b768-4c92-8ee1-9bd8bacd14f2"
      },
      "source": [
        "X_train, X_test, y_train, y_test = train_test_split(new_dataset, y_s, test_size=0.33, random_state=1)\n",
        "\n",
        "pca = PCA(n_components=10)\n",
        "  \n",
        "X_train = pca.fit_transform(X_train)\n",
        "X_test = pca.transform(X_test)\n",
        "  \n",
        "explained_variance = pca.explained_variance_ratio_\n",
        "\n",
        "model = LinearRegression()\n",
        "model.fit(X_train, y_train)\n",
        "\n",
        "y_hat = model.predict(X_test)\n",
        "\n",
        "mae = mean_absolute_error(y_test, yhat)\n",
        "print('MAE: %.3f' % mae)\n",
        "r2 = r2_score(y_test,yhat)\n",
        "print('R2: %.2f' %r2_score(y_test,yhat))"
      ],
      "execution_count": 122,
      "outputs": [
        {
          "output_type": "stream",
          "text": [
            "MAE: 0.565\n",
            "R2: 0.54\n"
          ],
          "name": "stdout"
        }
      ]
    },
    {
      "cell_type": "markdown",
      "metadata": {
        "id": "ur95LHn_JCgZ"
      },
      "source": [
        "<HR>"
      ]
    },
    {
      "cell_type": "markdown",
      "metadata": {
        "id": "B26T4sP7JFjL"
      },
      "source": [
        "## 15 - VIF + Correlation"
      ]
    },
    {
      "cell_type": "code",
      "metadata": {
        "id": "ownMFXYOJKZn"
      },
      "source": [
        "X_train, X_test, y_train, y_test = train_test_split(data_s, y_s, test_size=0.33, random_state=1)\n",
        "\n",
        "x_temp = sm.add_constant(X_train)\n",
        "\n",
        "vif = pd.DataFrame()\n",
        "vif[\"VIF Factor\"] = [variance_inflation_factor(x_temp.values, i) for i in range(data.shape[1])]\n",
        "vif[\"features\"] = data.columns\n",
        "#print(vif.round(1))\n",
        "\n",
        "k = []\n",
        "t=0\n",
        "for i,j in zip(data_s.index,vif.index):\n",
        "    if vif['VIF Factor'][j] < 5:\n",
        "        k.append(vif['features'][j])\n",
        "        #print(j)\n",
        "\n",
        "data_s = data_s[1:]\n",
        "header = data.iloc[0]\n",
        "data_s = data_s.rename(columns = header)\n",
        "\n",
        "col = list(data.columns)\n",
        "\n",
        "data_s.columns = col\n",
        "\n",
        "new_dataset = data_s[k]"
      ],
      "execution_count": 123,
      "outputs": []
    },
    {
      "cell_type": "code",
      "metadata": {
        "colab": {
          "base_uri": "https://localhost:8080/",
          "height": 297
        },
        "id": "rPoUz1lHPJwy",
        "outputId": "77e2fbca-ad6d-4d3b-9acb-a3c503dfec6c"
      },
      "source": [
        "pca = PCA()\n",
        "df = pca.fit_transform(new_dataset)\n",
        "explained_variance = pca.explained_variance_ratio_\n",
        "plt.plot(np.cumsum(pca.explained_variance_ratio_))\n",
        "plt.xlabel('number of components')\n",
        "plt.ylabel('cumulative explained variance')"
      ],
      "execution_count": 124,
      "outputs": [
        {
          "output_type": "execute_result",
          "data": {
            "text/plain": [
              "Text(0, 0.5, 'cumulative explained variance')"
            ]
          },
          "metadata": {
            "tags": []
          },
          "execution_count": 124
        },
        {
          "output_type": "display_data",
          "data": {
            "image/png": "[encoded data removed]",
            "text/plain": [
              "<Figure size 432x288 with 1 Axes>"
            ]
          },
          "metadata": {
            "tags": [],
            "needs_background": "light"
          }
        }
      ]
    },
    {
      "cell_type": "code",
      "metadata": {
        "id": "f3otz8JtPbYL"
      },
      "source": [
        "y_z = y_s.drop(y_s.index[[0]])"
      ],
      "execution_count": 127,
      "outputs": []
    },
    {
      "cell_type": "code",
      "metadata": {
        "colab": {
          "base_uri": "https://localhost:8080/"
        },
        "id": "ReiOfXIQPQGZ",
        "outputId": "61eb0dec-49b1-4352-f898-e1c0532e92d0"
      },
      "source": [
        "X_train, X_test, y_train, y_test = train_test_split(new_dataset, y_z, test_size=0.33, random_state=1)\n",
        "\n",
        "pca = PCA(n_components=45)\n",
        "  \n",
        "X_train = pca.fit_transform(X_train)\n",
        "X_test = pca.transform(X_test)\n",
        "  \n",
        "explained_variance = pca.explained_variance_ratio_\n",
        "\n",
        "model = LinearRegression()\n",
        "model.fit(X_train, y_train)\n",
        "\n",
        "y_hat = model.predict(X_test)\n",
        "\n",
        "mae = mean_absolute_error(y_test, yhat)\n",
        "print('MAE: %.3f' % mae)\n",
        "r2 = r2_score(y_test,yhat)\n",
        "print('R2: %.2f' %r2_score(y_test,yhat))"
      ],
      "execution_count": 129,
      "outputs": [
        {
          "output_type": "stream",
          "text": [
            "MAE: 0.868\n",
            "R2: -0.10\n"
          ],
          "name": "stdout"
        }
      ]
    },
    {
      "cell_type": "markdown",
      "metadata": {
        "id": "Ez3jLWzAOKzZ"
      },
      "source": [
        "# MinMax Scaling (Linear Regression)"
      ]
    },
    {
      "cell_type": "code",
      "metadata": {
        "colab": {
          "base_uri": "https://localhost:8080/"
        },
        "id": "85r_c6BYT6JQ",
        "outputId": "85d77994-8b5d-49b3-f03d-c8775d35712e"
      },
      "source": [
        "scaler = MinMaxScaler()\n",
        "\n",
        "X_train, X_test, y_train, y_test = train_test_split(data, y, test_size=0.33, random_state=1)\n",
        "\n",
        "X_train_s = scaler.fit_transform(data)\n",
        "#y_s = scaler.fit_transform(y)\n",
        "\n",
        "data_s = pd.DataFrame(data_s)\n",
        "y_s = pd.DataFrame(y_s)\n",
        "\n",
        "col = list(data.columns)\n",
        "data_s.columns = col\n",
        "\n",
        "print(data_s.shape)\n",
        "print(y_s.shape)"
      ],
      "execution_count": 103,
      "outputs": [
        {
          "output_type": "stream",
          "text": [
            "(100000, 295)\n",
            "(100000, 1)\n"
          ],
          "name": "stdout"
        }
      ]
    },
    {
      "cell_type": "markdown",
      "metadata": {
        "id": "5vZVux9SUagB"
      },
      "source": [
        "<hr>"
      ]
    },
    {
      "cell_type": "markdown",
      "metadata": {
        "id": "tgzu0VDfVBlY"
      },
      "source": [
        "## 16"
      ]
    },
    {
      "cell_type": "code",
      "metadata": {
        "colab": {
          "base_uri": "https://localhost:8080/"
        },
        "id": "5-tKlqqMUbZy",
        "outputId": "a651e22d-8dec-492e-a389-0b0703ee72f6"
      },
      "source": [
        "X_train, X_test, y_train, y_test = train_test_split(data_s, y_s, test_size=0.33, random_state=1)\n",
        "model = LinearRegression()\n",
        "model.fit(X_train, y_train)\n",
        "# evaluate the model\n",
        "yhat = model.predict(X_test)\n",
        "# evaluate predictions\n",
        "mae = mean_absolute_error(y_test, yhat)\n",
        "print('MAE: %.3f' % mae)\n",
        "print('R2: %.2f' %r2_score(y_test,yhat))"
      ],
      "execution_count": 104,
      "outputs": [
        {
          "output_type": "stream",
          "text": [
            "MAE: 0.297\n",
            "R2: 0.85\n"
          ],
          "name": "stdout"
        }
      ]
    },
    {
      "cell_type": "markdown",
      "metadata": {
        "id": "58FZn_ZoU6Zg"
      },
      "source": [
        "<hr>"
      ]
    },
    {
      "cell_type": "markdown",
      "metadata": {
        "id": "geexHs2gVDVN"
      },
      "source": [
        "## 17"
      ]
    },
    {
      "cell_type": "code",
      "metadata": {
        "colab": {
          "base_uri": "https://localhost:8080/",
          "height": 297
        },
        "id": "HrFzU8B8Zluf",
        "outputId": "e37fb0ce-75f2-47ad-abc9-a88c39283ea4"
      },
      "source": [
        "pca = PCA()\n",
        "df = pca.fit_transform(data_s)\n",
        "explained_variance = pca.explained_variance_ratio_\n",
        "plt.plot(np.cumsum(pca.explained_variance_ratio_))\n",
        "plt.xlabel('number of components')\n",
        "plt.ylabel('cumulative explained variance')"
      ],
      "execution_count": 105,
      "outputs": [
        {
          "output_type": "execute_result",
          "data": {
            "text/plain": [
              "Text(0, 0.5, 'cumulative explained variance')"
            ]
          },
          "metadata": {
            "tags": []
          },
          "execution_count": 105
        },
        {
          "output_type": "display_data",
          "data": {
            "image/png": "[encoded data removed]",
            "text/plain": [
              "<Figure size 432x288 with 1 Axes>"
            ]
          },
          "metadata": {
            "tags": [],
            "needs_background": "light"
          }
        }
      ]
    },
    {
      "cell_type": "code",
      "metadata": {
        "colab": {
          "base_uri": "https://localhost:8080/"
        },
        "id": "nZ1khYLzU5hU",
        "outputId": "5e7f305d-eb8d-411b-9f12-0f9ddfb10d61"
      },
      "source": [
        "X_train, X_test, y_train, y_test = train_test_split(data_s, y_s, test_size=0.33, random_state=1)\n",
        "pca = PCA(n_components=60)\n",
        "  \n",
        "X_train = pca.fit_transform(X_train)\n",
        "X_test = pca.transform(X_test)\n",
        "  \n",
        "explained_variance = pca.explained_variance_ratio_\n",
        "\n",
        "model = LinearRegression()\n",
        "model.fit(X_train, y_train)\n",
        "\n",
        "y_hat = model.predict(X_test)\n",
        "\n",
        "mae = mean_absolute_error(y_test, yhat)\n",
        "print('MAE: %.3f' % mae)\n",
        "r2 = r2_score(y_test,yhat)\n",
        "print('R2: %.2f' %r2_score(y_test,yhat))"
      ],
      "execution_count": 106,
      "outputs": [
        {
          "output_type": "stream",
          "text": [
            "MAE: 0.297\n",
            "R2: 0.85\n"
          ],
          "name": "stdout"
        }
      ]
    },
    {
      "cell_type": "markdown",
      "metadata": {
        "id": "59Zt_bqpasL5"
      },
      "source": [
        "<HR>"
      ]
    },
    {
      "cell_type": "markdown",
      "metadata": {
        "id": "tuHF4wTcesui"
      },
      "source": [
        "## 18"
      ]
    },
    {
      "cell_type": "code",
      "metadata": {
        "colab": {
          "base_uri": "https://localhost:8080/"
        },
        "id": "dfHqkThDchjB",
        "outputId": "13dfebc3-3deb-46d8-ce81-b93f94096653"
      },
      "source": [
        "\n",
        "fs = SelectKBest(score_func=f_regression, k=200)\n",
        "\n",
        "X_selected = fs.fit_transform(data_s, y_s)\n",
        "\n",
        "print(X_selected.shape)"
      ],
      "execution_count": 107,
      "outputs": [
        {
          "output_type": "stream",
          "text": [
            "(100000, 200)\n"
          ],
          "name": "stdout"
        }
      ]
    },
    {
      "cell_type": "code",
      "metadata": {
        "colab": {
          "base_uri": "https://localhost:8080/",
          "height": 297
        },
        "id": "V5a5M5OWdvJd",
        "outputId": "200467dd-7223-40ed-da7c-f85b741eda3e"
      },
      "source": [
        "pca = PCA()\n",
        "df = pca.fit_transform(X_selected)\n",
        "explained_variance = pca.explained_variance_ratio_\n",
        "plt.plot(np.cumsum(pca.explained_variance_ratio_))\n",
        "plt.xlabel('number of components')\n",
        "plt.ylabel('cumulative explained variance')"
      ],
      "execution_count": 108,
      "outputs": [
        {
          "output_type": "execute_result",
          "data": {
            "text/plain": [
              "Text(0, 0.5, 'cumulative explained variance')"
            ]
          },
          "metadata": {
            "tags": []
          },
          "execution_count": 108
        },
        {
          "output_type": "display_data",
          "data": {
            "image/png": "[encoded data removed]",
            "text/plain": [
              "<Figure size 432x288 with 1 Axes>"
            ]
          },
          "metadata": {
            "tags": [],
            "needs_background": "light"
          }
        }
      ]
    },
    {
      "cell_type": "code",
      "metadata": {
        "id": "PVgyY4FfeUJf"
      },
      "source": [
        "X_train, X_test, y_train, y_test = train_test_split(X_selected, y_s, test_size=0.33, random_state=1)"
      ],
      "execution_count": 109,
      "outputs": []
    },
    {
      "cell_type": "code",
      "metadata": {
        "colab": {
          "base_uri": "https://localhost:8080/"
        },
        "id": "IJ8iH634dtda",
        "outputId": "67cbc898-5809-43df-df67-9641db0df100"
      },
      "source": [
        "pca = PCA(n_components=100)\n",
        "  \n",
        "X_train = pca.fit_transform(X_train)\n",
        "X_test = pca.transform(X_test)\n",
        "  \n",
        "explained_variance = pca.explained_variance_ratio_\n",
        "\n",
        "model = LinearRegression()\n",
        "model.fit(X_train, y_train)\n",
        "\n",
        "y_hat = model.predict(X_test)\n",
        "\n",
        "mae = mean_absolute_error(y_test, yhat)\n",
        "print('MAE: %.3f' % mae)\n",
        "r2 = r2_score(y_test,yhat)\n",
        "print('R2: %.2f' %r2_score(y_test,yhat))"
      ],
      "execution_count": 110,
      "outputs": [
        {
          "output_type": "stream",
          "text": [
            "MAE: 0.297\n",
            "R2: 0.85\n"
          ],
          "name": "stdout"
        }
      ]
    },
    {
      "cell_type": "markdown",
      "metadata": {
        "id": "27lEdkehjXFo"
      },
      "source": [
        "## 19"
      ]
    },
    {
      "cell_type": "code",
      "metadata": {
        "colab": {
          "base_uri": "https://localhost:8080/",
          "height": 297
        },
        "id": "o-_36_pkjUBH",
        "outputId": "35dd20c3-e147-450d-b511-3cdf4a45ed72"
      },
      "source": [
        "X_train, X_test, y_train, y_test = train_test_split(data_s, y_s, test_size=0.33, random_state=1)\n",
        "\n",
        "x_temp = sm.add_constant(X_train)\n",
        "\n",
        "vif = pd.DataFrame()\n",
        "vif[\"VIF Factor\"] = [variance_inflation_factor(x_temp.values, i) for i in range(data.shape[1])]\n",
        "vif[\"features\"] = data.columns\n",
        "#print(vif.round(1))\n",
        "\n",
        "k = []\n",
        "t=0\n",
        "for i,j in zip(data_s.index,vif.index):\n",
        "    if vif['VIF Factor'][j] < 5:\n",
        "        k.append(vif['features'][j])\n",
        "        #print(j)\n",
        "\n",
        "data_s = data_s[1:]\n",
        "header = data.iloc[0]\n",
        "data_s = data_s.rename(columns = header)\n",
        "\n",
        "col = list(data.columns)\n",
        "\n",
        "data_s.columns = col\n",
        "\n",
        "pca = PCA()\n",
        "df = pca.fit_transform(X_selected)\n",
        "explained_variance = pca.explained_variance_ratio_\n",
        "plt.plot(np.cumsum(pca.explained_variance_ratio_))\n",
        "plt.xlabel('number of components')\n",
        "plt.ylabel('cumulative explained variance')"
      ],
      "execution_count": 111,
      "outputs": [
        {
          "output_type": "execute_result",
          "data": {
            "text/plain": [
              "Text(0, 0.5, 'cumulative explained variance')"
            ]
          },
          "metadata": {
            "tags": []
          },
          "execution_count": 111
        },
        {
          "output_type": "display_data",
          "data": {
            "image/png": "[encoded data removed]",
            "text/plain": [
              "<Figure size 432x288 with 1 Axes>"
            ]
          },
          "metadata": {
            "tags": [],
            "needs_background": "light"
          }
        }
      ]
    },
    {
      "cell_type": "code",
      "metadata": {
        "id": "FIS3xf3jjp74"
      },
      "source": [
        "X_train, X_test, y_train, y_test = train_test_split(new_dataset, y_z, test_size=0.33, random_state=1)\n",
        "\n",
        "pca = PCA(n_components=45)\n",
        "  \n",
        "X_train = pca.fit_transform(X_train)\n",
        "X_test = pca.transform(X_test)\n",
        "  \n",
        "explained_variance = pca.explained_variance_ratio_\n",
        "\n",
        "model = LinearRegression()\n",
        "model.fit(X_train, y_train)\n",
        "\n",
        "y_hat = model.predict(X_test)\n",
        "\n",
        "mae = mean_absolute_error(y_test, yhat)\n",
        "print('MAE: %.3f' % mae)\n",
        "r2 = r2_score(y_test,yhat)\n",
        "print('R2: %.2f' %r2_score(y_test,yhat))"
      ],
      "execution_count": null,
      "outputs": []
    }
  ]
}