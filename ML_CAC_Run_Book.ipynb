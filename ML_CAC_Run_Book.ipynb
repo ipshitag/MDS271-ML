{
  "nbformat": 4,
  "nbformat_minor": 0,
  "metadata": {
    "colab": {
      "name": "Run Book.ipynb",
      "provenance": [],
      "collapsed_sections": [
        "pu5JVdsj5rDQ",
        "RRffHUjh6CJ7",
        "qy-OKag26RZ0"
      ]
    },
    "kernelspec": {
      "name": "python3",
      "display_name": "Python 3"
    },
    "language_info": {
      "name": "python"
    }
  },
  "cells": [
    {
      "cell_type": "markdown",
      "metadata": {
        "id": "pu5JVdsj5rDQ"
      },
      "source": [
        "# Step 1\n",
        "\n",
        "## Import Libraries"
      ]
    },
    {
      "cell_type": "code",
      "metadata": {
        "id": "nB6eg3CU5nQj"
      },
      "source": [
        "#data wrangling\n",
        "import numpy as np\n",
        "import pandas as pd\n",
        "\n",
        "#model buildng\n",
        "from sklearn.model_selection import train_test_split\n",
        "from sklearn.linear_model import LinearRegression\n",
        "\n",
        "#feature selection\n",
        "from sklearn.decomposition import PCA\n",
        "\n",
        "#scaling\n",
        "from sklearn.preprocessing import MinMaxScaler\n",
        "\n",
        "#model evaluation\n",
        "from sklearn.metrics import r2_score\n",
        "from sklearn.metrics import mean_absolute_error\n",
        "\n",
        "#graph\n",
        "import matplotlib.pyplot as plt\n",
        "\n",
        "#extra\n",
        "import warnings\n",
        "warnings.filterwarnings(\"ignore\")"
      ],
      "execution_count": null,
      "outputs": []
    },
    {
      "cell_type": "markdown",
      "metadata": {
        "id": "RRffHUjh6CJ7"
      },
      "source": [
        "# Step 2\n",
        "\n",
        "## Import the dataset"
      ]
    },
    {
      "cell_type": "markdown",
      "metadata": {
        "id": "gSU5q5066Kw_"
      },
      "source": [
        "\n",
        "\n",
        "```\n",
        "data = pd.read_csv('your files location')\n",
        "```\n",
        "\n"
      ]
    },
    {
      "cell_type": "code",
      "metadata": {
        "id": "kuuEW35I6Bmv"
      },
      "source": [
        "data = pd.read_csv('  ')"
      ],
      "execution_count": null,
      "outputs": []
    },
    {
      "cell_type": "markdown",
      "metadata": {
        "id": "qy-OKag26RZ0"
      },
      "source": [
        "# Step 3\n",
        "\n",
        "## Treat Null Values"
      ]
    },
    {
      "cell_type": "markdown",
      "metadata": {
        "id": "khKsl3T96bOE"
      },
      "source": [
        "Run the following function"
      ]
    },
    {
      "cell_type": "code",
      "metadata": {
        "id": "d75AB_Ye6eGR"
      },
      "source": [
        "def MissingValue (data, th):\n",
        "  k = {}\n",
        "  num_rows = data.shape[0]\n",
        "  for i,j in zip(d,data):\n",
        "    if i==True:\n",
        "        k[j] = data[j].isnull().sum()/num_rows * 100\n",
        "\n",
        "  for i in k:\n",
        "    if k[i]>=th:\n",
        "        data = data.drop([i],axis=1)\n",
        "\n",
        "  #filling rest with mean    \n",
        "  for i in data:\n",
        "    data[i].fillna(int(data[i].mean()), inplace=True)\n",
        "\n",
        "  return data"
      ],
      "execution_count": 1,
      "outputs": []
    },
    {
      "cell_type": "markdown",
      "metadata": {
        "id": "K3QVhPJx7S8d"
      },
      "source": [
        "Call the MissingValue function, along with the threshold of null values you want"
      ]
    },
    {
      "cell_type": "code",
      "metadata": {
        "id": "cq7GKx4X7dNR"
      },
      "source": [
        "data = MissingValue(data, __)"
      ],
      "execution_count": null,
      "outputs": []
    },
    {
      "cell_type": "markdown",
      "metadata": {
        "id": "jB11lIuQ7mlZ"
      },
      "source": [
        "# Step 4\n",
        "\n",
        "## Scaling of the data"
      ]
    },
    {
      "cell_type": "code",
      "metadata": {
        "id": "hoGaBOWc7uIr"
      },
      "source": [
        "# using MinMax Scaler\n",
        "scaler = MinMaxScaler()\n",
        "\n",
        "#Applying the scaler to the entire dataset\n",
        "data_s = pd.DataFrame(data_s)\n",
        "y_s = pd.DataFrame(y_s)\n",
        "\n",
        "#The scaler returns the dataframe without headers, hence we add the columns\n",
        "col = list(data.columns)\n",
        "data_s.columns = col\n",
        "\n",
        "#check the shape\n",
        "print(data_s.shape)\n",
        "print(y_s.shape)"
      ],
      "execution_count": null,
      "outputs": []
    },
    {
      "cell_type": "markdown",
      "metadata": {
        "id": "eLqAmjRs8Rmg"
      },
      "source": [
        "Check the shape of dataframe"
      ]
    },
    {
      "cell_type": "markdown",
      "metadata": {
        "id": "FpfCI6oI8gCZ"
      },
      "source": [
        "# Step 5\n",
        "\n",
        "## Find n component"
      ]
    },
    {
      "cell_type": "code",
      "metadata": {
        "id": "HqkSxL228ejw"
      },
      "source": [
        "# plotting explained variance with number of variables\n",
        "\n",
        "pca = PCA()\n",
        "df = pca.fit_transform(data_s)\n",
        "explained_variance = pca.explained_variance_ratio_\n",
        "plt.plot(np.cumsum(pca.explained_variance_ratio_))\n",
        "plt.xlabel('number of components')\n",
        "plt.ylabel('cumulative explained variance')"
      ],
      "execution_count": null,
      "outputs": []
    },
    {
      "cell_type": "markdown",
      "metadata": {
        "id": "0qjWiuvZ9FJs"
      },
      "source": [
        "From the above graph find the number of elements which gives around 95% of explained variance. That value is the best n_components"
      ]
    },
    {
      "cell_type": "markdown",
      "metadata": {
        "id": "Hb2IDBKS9QSX"
      },
      "source": [
        "# Step 6\n",
        "\n",
        "## Appling PCA and Linear Regression"
      ]
    },
    {
      "cell_type": "markdown",
      "metadata": {
        "id": "K3zvFWov9pd8"
      },
      "source": [
        "Run the following function"
      ]
    },
    {
      "cell_type": "code",
      "metadata": {
        "id": "l1pbIHzK9WoS"
      },
      "source": [
        "def LinearModelBuilder(data_s,y_s,n):\n",
        "  X_train, X_test, y_train, y_test = train_test_split(data_s, y_s, test_size=0.33, random_state=1)\n",
        "  pca = PCA(n_components=n)\n",
        "  \n",
        "  X_train = pca.fit_transform(X_train)\n",
        "  X_test = pca.transform(X_test)\n",
        "  \n",
        "  explained_variance = pca.explained_variance_ratio_\n",
        "\n",
        "  model = LinearRegression()\n",
        "  model.fit(X_train, y_train)\n",
        "\n",
        "  y_hat = model.predict(X_test)\n",
        "\n",
        "  mae = mean_absolute_error(y_test, yhat)\n",
        "  print('MAE: %.3f' % mae)\n",
        "  r2 = r2_score(y_test,yhat)\n",
        "  print('R2: %.2f' %r2_score(y_test,yhat))"
      ],
      "execution_count": null,
      "outputs": []
    },
    {
      "cell_type": "markdown",
      "metadata": {
        "id": "-pEqmB_N9tmd"
      },
      "source": [
        "Call the ```LinearModelBuilder``` with data and n components"
      ]
    },
    {
      "cell_type": "code",
      "metadata": {
        "id": "pwUxfXla900A"
      },
      "source": [
        "LinearModelBuilder(data_s,y_s, __ )"
      ],
      "execution_count": null,
      "outputs": []
    }
  ]
}